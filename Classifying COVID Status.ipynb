{
 "cells": [
  {
   "cell_type": "code",
   "execution_count": 343,
   "metadata": {},
   "outputs": [],
   "source": [
    "#Import libraries\n",
    "import pandas as pd\n",
    "import numpy as np\n",
    "import matplotlib.pyplot as plt\n",
    "import plotly.express as px\n",
    "import seaborn as sns\n",
    "\n",
    "from sklearn.preprocessing import PolynomialFeatures\n",
    "from sklearn.pipeline import make_pipeline\n",
    "from sklearn.linear_model import LinearRegression\n",
    "from sklearn.linear_model import Ridge\n",
    "from sklearn import preprocessing\n",
    "from sklearn.model_selection import StratifiedKFold\n",
    "\n",
    "from keras.models import Sequential\n",
    "from keras.layers import Dense\n",
    "\n",
    "pd.set_option('display.max_rows', None)\n",
    "pd.set_option('display.max_columns', None)\n",
    "\n",
    "%matplotlib inline"
   ]
  },
  {
   "cell_type": "code",
   "execution_count": 2,
   "metadata": {},
   "outputs": [],
   "source": [
    "#Import global confirmed cases\n",
    "data = pd.read_csv('COVIDGlobalConfirmed.txt')\n",
    "data = pd.concat([data.iloc[:, 1:2], data.iloc[:, 4:]], axis = 1)\n",
    "data = data.set_index('Country/Region')\n",
    "\n",
    "#Calculate new cases from total cases\n",
    "data2 = data.diff(axis = 1).iloc[:, 1:]\n",
    "\n",
    "#Keep only regions with more than 500 total cases\n",
    "data3 = data2[data2.sum(axis = 1) > 500]\n",
    "\n",
    "#Remove cruise ship assuming not representative of normal spread\n",
    "data3 = data3[data3.index != 'Diamond Princess']\n",
    "\n",
    "#Reshape data for plotting\n",
    "data4 = data3.T.reset_index()\n",
    "data4['index'] = pd.to_datetime(data4['index'])"
   ]
  },
  {
   "cell_type": "code",
   "execution_count": 23,
   "metadata": {},
   "outputs": [],
   "source": [
    "#Create template for cleaning data\n",
    "\n",
    "#Pull first country's data\n",
    "c1 = pd.concat([data4['index'], data4.iloc[:, 1:2]], axis = 1)\n",
    "\n",
    "#Add number to country name in case there are duplicates\n",
    "c1['country'] = c1.columns[1] + str(0)\n",
    "\n",
    "#Rename columns\n",
    "c1.columns = ['date', 'new', 'country']\n",
    "\n",
    "#Drop leading zeros up until first case\n",
    "c1 = c1[c1['date'] >= c1[c1['new'] > 0]['date'].min()]\n",
    "\n",
    "#Calculate the total previous to data point\n",
    "c1['prevTtl'] = c1['new'].cumsum() - c1['new']\n",
    "\n",
    "#Append new cases from day before\n",
    "c1['prevNew'] = c1.new.shift(1)\n",
    "\n",
    "#Calculate days from peak\n",
    "c1['rel2Peak'] = c1['date'] - c1[c1['new'] == c1['new'].max()]['date'].min()\n",
    "r2p = []\n",
    "for i in range(len(c1['rel2Peak'])):\n",
    "    r = c1['rel2Peak'].iloc[i].days\n",
    "    r2p.append(r)\n",
    "c1['rel2Peak'] = r2p\n",
    "c1['peak'] = c1[c1['new'] == c1['new'].max()]['new'].values[0]\n",
    "\n",
    "#Calculate peak prior to data point date\n",
    "prevPeak = []\n",
    "for i in range(len(c1)):\n",
    "    pP = c1[c1['date'] < c1.iloc[i:i+1, :]['date'][c1.iloc[i:i+1, :]['date'].index[0]]]['new'].max()    \n",
    "    prevPeak.append(pP)\n",
    "c1['prevPeak'] = prevPeak\n",
    "\n",
    "#Reset and drop index\n",
    "c1 = c1.reset_index(drop=True)\n",
    "\n",
    "#Calculate days from prevPeak\n",
    "r2P = [0]\n",
    "for j in range(len(c1) - 1):\n",
    "    d = c1[c1['new'] == c1.iloc[j+1:j+2, :]['prevPeak'][j+1]]['date'].min()\n",
    "    d2 = c1.iloc[j+1:j+2, :]['date'] - d\n",
    "    r2P.append(d2[j+1].days)\n",
    "c1['R2P'] = r2P\n",
    "\n",
    "#Rolling average new cases\n",
    "c1['avgNew3'] = c1.new.rolling(3).mean()\n",
    "\n",
    "#Rolling sum new cases\n",
    "c1['sumNew3'] = c1.new.rolling(3).sum()\n",
    "\n",
    "#Rolling avg change in new\n",
    "c1['avgChng3'] = c1['new'].diff().rolling(3).mean()\n",
    "\n",
    "#Rolling average sum change in new\n",
    "c1['sumChng3'] = c1['new'].diff().rolling(3).sum()\n",
    "\n",
    "#Replace NaN values with zeros\n",
    "c1 = c1.fillna(0)\n",
    "\n",
    "#Clean and reshape data for plotting\n",
    "forPlot = c1\n",
    "\n",
    "for i in range(data4.shape[1] - 3):\n",
    "    c = pd.concat([data4['index'], data4.iloc[:, i+2:i+3]], axis = 1)\n",
    "    c['country'] = c.columns[1] + str(i+1)\n",
    "    c.columns = ['date', 'new', 'country']\n",
    "    c = c[c['date'] >= c[c['new'] > 0]['date'].min()]\n",
    "    c['prevTtl'] = c['new'].cumsum() - c['new']\n",
    "    c['prevNew'] = c.new.shift(1)\n",
    "    c['rel2Peak'] = c['date'] - c[c['new'] == c['new'].max()]['date'].min()\n",
    "    r2p = []\n",
    "    for k in range(len(c['rel2Peak'])):\n",
    "        r = c['rel2Peak'].iloc[k].days\n",
    "        r2p.append(r)\n",
    "    c['rel2Peak'] = r2p\n",
    "    c['peak'] = c[c['new'] == c['new'].max()]['new'].values[0]\n",
    "    prevPeak = []\n",
    "    for i in range(len(c)):\n",
    "        pP = c[c['date'] < c.iloc[i:i+1, :]['date'][c.iloc[i:i+1, :]['date'].index[0]]]['new'].max()    \n",
    "        prevPeak.append(pP)\n",
    "    c['prevPeak'] = prevPeak\n",
    "    c = c.reset_index(drop=True)\n",
    "    \n",
    "    #Calculate days from prevPeak\n",
    "    r2P = [0]\n",
    "    for j in range(len(c) - 1):\n",
    "        d = c[c['new'] == c.iloc[j+1:j+2, :]['prevPeak'][j+1]]['date'].min()\n",
    "        d2 = c.iloc[j+1:j+2, :]['date'] - d\n",
    "        r2P.append(d2[j+1].days)\n",
    "    c['R2P'] = r2P\n",
    "    c['avgNew3'] = c.new.rolling(3).mean()\n",
    "    c['sumNew3'] = c.new.rolling(3).sum()\n",
    "    c['avgChng3'] = c['new'].diff().rolling(3).mean()\n",
    "    c['sumChng3'] = c['new'].diff().rolling(3).sum()\n",
    "    c = c.fillna(0)\n",
    "    \n",
    "    forPlot = pd.concat([forPlot, c])\n",
    "    \n",
    "forPlot = forPlot.reset_index()\n",
    "forPlot.columns = ['day', 'date', 'new', 'country', 'prevTtl', 'prevNew', 'rel2Peak', 'peak', 'prevPeak', 'R2P', 'avgNew3', 'sumNew3', 'avgChng3', 'sumChng3']"
   ]
  },
  {
   "cell_type": "code",
   "execution_count": 59,
   "metadata": {},
   "outputs": [
    {
     "name": "stderr",
     "output_type": "stream",
     "text": [
      "/Users/jmc517/opt/anaconda3/lib/python3.7/site-packages/sklearn/linear_model/_ridge.py:148: LinAlgWarning:\n",
      "\n",
      "Ill-conditioned matrix (rcond=7.0285e-18): result may not be accurate.\n",
      "\n"
     ]
    },
    {
     "name": "stdout",
     "output_type": "stream",
     "text": [
      "Algeria1\n"
     ]
    },
    {
     "data": {
      "image/png": "[encoded data removed]",
      "text/plain": [
       "<Figure size 1440x720 with 1 Axes>"
      ]
     },
     "metadata": {
      "needs_background": "light"
     },
     "output_type": "display_data"
    }
   ],
   "source": [
    "#Doing a visual check just to see what the genreal curve looks like\n",
    "\n",
    "c = 'Algeria1'\n",
    "\n",
    "#View a plot of the data\n",
    "plt.figure(figsize=(20,10))\n",
    "\n",
    "plt.scatter(forPlot[forPlot['country'] == c]['day'], forPlot[forPlot['country'] == c]['new'], color='navy', s=30, marker='o', label=\"training points\")\n",
    "\n",
    "X = pd.concat([forPlot[forPlot['country'] == c]['day'], forPlot[forPlot['country'] == c].iloc[:, 4:]], axis = 1)\n",
    "y = forPlot[forPlot['country'] == c]['new']\n",
    "\n",
    "interaction = PolynomialFeatures(degree=3, include_bias=False, interaction_only=True)\n",
    "#X = interaction.fit_transform(X)\n",
    "\n",
    "model = make_pipeline(PolynomialFeatures(5), Ridge())\n",
    "model.fit(X['day'].values.reshape(-1, 1), np.array(y).reshape(-1, 1))\n",
    "y_plot = model.predict(X['day'].values.reshape(-1, 1))\n",
    "plt.plot(forPlot[forPlot['country'] == c]['day'], y_plot)\n",
    "\n",
    "plt.legend(loc='lower left')\n",
    "print(c)\n",
    "\n",
    "plt.show()"
   ]
  },
  {
   "cell_type": "code",
   "execution_count": 227,
   "metadata": {},
   "outputs": [],
   "source": [
    "#Label data based on curve metrics\n",
    "flatPrior = []\n",
    "increasing = []\n",
    "top = []\n",
    "pastPeak = []\n",
    "\n",
    "for fP in forPlot['country'].unique():\n",
    "    md = forPlot[forPlot['new'] > 1].groupby('country').min()['date']\n",
    "    f = len(forPlot[(forPlot['date'] < md[md.index == fP][0]) & (forPlot['country'] == fP)])\n",
    "    flatPrior.append(f)\n",
    "    \n",
    "    p2P = forPlot[(forPlot.index < forPlot[(forPlot['country'] == fP) & (forPlot['rel2Peak'] == -1)].index[0]) & (forPlot['country'] == fP)]\n",
    "    i = len(p2P[p2P['date'] >= p2P[p2P['new'] > 1]['date'].min()])\n",
    "    increasing.append(i)\n",
    "    \n",
    "    t = len(forPlot[(forPlot['country'] == fP) & (forPlot['rel2Peak'] >= -1) & (forPlot['rel2Peak'] <= 1)])\n",
    "    top.append(t)\n",
    "    \n",
    "    p = len(forPlot[(forPlot['country'] == fP) & (forPlot['rel2Peak'] > 1)])\n",
    "    pastPeak.append(p)\n",
    "    \n",
    "targets = []\n",
    "for n in range(105):\n",
    "    for r in range(flatPrior[n]):\n",
    "        targets.append([0, 0])\n",
    "    for up in range(increasing[n]):\n",
    "        targets.append([1, 1])\n",
    "    for s in range(top[n]):\n",
    "        targets.append([0, 1])\n",
    "    for p in range(pastPeak[n]):\n",
    "        targets.append([1, 0])\n",
    "        \n",
    "forPlot['targets'] = targets\n",
    "\n",
    "#Add a single digit target for plotting purposes\n",
    "targets2 = []\n",
    "for n in range(105):\n",
    "    for r in range(flatPrior[n]):\n",
    "        targets2.append(0)\n",
    "    for up in range(increasing[n]):\n",
    "        targets2.append(1)\n",
    "    for s in range(top[n]):\n",
    "        targets2.append(2)\n",
    "    for p in range(pastPeak[n]):\n",
    "        targets2.append(3)\n",
    "        \n",
    "forPlot['targets2'] = targets2"
   ]
  },
  {
   "cell_type": "code",
   "execution_count": 255,
   "metadata": {},
   "outputs": [
    {
     "data": {
      "application/vnd.plotly.v1+json": {
       "config": {
        "plotlyServerURL": "https://plot.ly"
       },
       "data": [
        {
         "hovertemplate": "day=%{x}<br>new=%{y}<br>targets2=%{marker.color}<extra></extra>",
         "legendgroup": "",
         "marker": {
          "color": [
           0,
           0,
           0,
           0,
           0,
           0,
           0,
           0,
           0,
           0,
           0,
           0,
           0,
           1,
           1,
           1,
           1,
           1,
           1,
           1,
           1,
           1,
           1,
           1,
           1,
           1,
           1,
           1,
           1,
           1,
           1,
           1,
           1,
           1,
           1,
           1,
           2,
           2,
           2,
           3,
           3,
           3,
           3,
           3,
           3,
           3,
           3,
           3
          ],
          "coloraxis": "coloraxis",
          "symbol": "circle"
         },
         "mode": "markers",
         "name": "",
         "showlegend": false,
         "type": "scatter",
         "x": [
          0,
          1,
          2,
          3,
          4,
          5,
          6,
          7,
          8,
          9,
          10,
          11,
          12,
          13,
          14,
          15,
          16,
          17,
          18,
          19,
          20,
          21,
          22,
          23,
          24,
          25,
          26,
          27,
          28,
          29,
          30,
          31,
          32,
          33,
          34,
          35,
          36,
          37,
          38,
          39,
          40,
          41,
          42,
          43,
          44,
          45,
          46,
          47
         ],
         "xaxis": "x",
         "y": [
          1,
          0,
          0,
          0,
          0,
          0,
          0,
          0,
          0,
          0,
          0,
          0,
          0,
          3,
          0,
          1,
          2,
          0,
          0,
          4,
          5,
          5,
          1,
          0,
          0,
          2,
          0,
          16,
          0,
          34,
          10,
          10,
          16,
          0,
          10,
          50,
          4,
          63,
          36,
          8,
          18,
          50,
          18,
          56,
          21,
          40,
          37,
          34
         ],
         "yaxis": "y"
        },
        {
         "hovertemplate": "<b>LOWESS trendline</b><br><br>day=%{x}<br>new=%{y} <b>(trend)</b><extra></extra>",
         "legendgroup": "",
         "marker": {
          "symbol": "circle"
         },
         "mode": "lines",
         "name": "",
         "showlegend": false,
         "type": "scatter",
         "x": [
          0,
          1,
          2,
          3,
          4,
          5,
          6,
          7,
          8,
          9,
          10,
          11,
          12,
          13,
          14,
          15,
          16,
          17,
          18,
          19,
          20,
          21,
          22,
          23,
          24,
          25,
          26,
          27,
          28,
          29,
          30,
          31,
          32,
          33,
          34,
          35,
          36,
          37,
          38,
          39,
          40,
          41,
          42,
          43,
          44,
          45,
          46,
          47
         ],
         "xaxis": "x",
         "y": [
          -0.36134740549259076,
          -0.26553135558594343,
          -0.16731769899832777,
          -0.06688135599020108,
          0.035539729591270865,
          0.13965770137650307,
          0.24515029478837397,
          0.35167963363151905,
          0.45891591526297243,
          0.5665692718833081,
          0.6744370321665086,
          0.7824836172663495,
          0.8909997414283217,
          1.0009835735606478,
          1.1149847014366274,
          1.238424851017619,
          1.3883392385612594,
          1.5810885275440618,
          1.8425816175217011,
          2.1807531536100746,
          2.590388810901905,
          3.0575983510752502,
          3.567971142304447,
          4.110865737716034,
          4.681142410637053,
          5.280052955454177,
          5.915873358327498,
          6.597898016612548,
          7.335892796488184,
          8.138995043530194,
          9.048252001892909,
          10.220969052843701,
          11.818222455264332,
          14.056592661882283,
          16.018500722041196,
          17.758500969901725,
          19.399199143157546,
          20.99716139416074,
          22.576915180637773,
          24.149826243081755,
          25.72156974412183,
          27.295328095598066,
          28.873513319155652,
          30.457774376843616,
          32.04921847092945,
          33.648567021636225,
          35.255974344076414,
          36.87012490701787
         ],
         "yaxis": "y"
        }
       ],
       "layout": {
        "coloraxis": {
         "colorbar": {
          "title": {
           "text": "targets2"
          }
         },
         "colorscale": [
          [
           0,
           "#0d0887"
          ],
          [
           0.1111111111111111,
           "#46039f"
          ],
          [
           0.2222222222222222,
           "#7201a8"
          ],
          [
           0.3333333333333333,
           "#9c179e"
          ],
          [
           0.4444444444444444,
           "#bd3786"
          ],
          [
           0.5555555555555556,
           "#d8576b"
          ],
          [
           0.6666666666666666,
           "#ed7953"
          ],
          [
           0.7777777777777778,
           "#fb9f3a"
          ],
          [
           0.8888888888888888,
           "#fdca26"
          ],
          [
           1,
           "#f0f921"
          ]
         ]
        },
        "legend": {
         "tracegroupgap": 0
        },
        "margin": {
         "t": 60
        },
        "template": {
         "data": {
          "bar": [
           {
            "error_x": {
             "color": "#2a3f5f"
            },
            "error_y": {
             "color": "#2a3f5f"
            },
            "marker": {
             "line": {
              "color": "#E5ECF6",
              "width": 0.5
             }
            },
            "type": "bar"
           }
          ],
          "barpolar": [
           {
            "marker": {
             "line": {
              "color": "#E5ECF6",
              "width": 0.5
             }
            },
            "type": "barpolar"
           }
          ],
          "carpet": [
           {
            "aaxis": {
             "endlinecolor": "#2a3f5f",
             "gridcolor": "white",
             "linecolor": "white",
             "minorgridcolor": "white",
             "startlinecolor": "#2a3f5f"
            },
            "baxis": {
             "endlinecolor": "#2a3f5f",
             "gridcolor": "white",
             "linecolor": "white",
             "minorgridcolor": "white",
             "startlinecolor": "#2a3f5f"
            },
            "type": "carpet"
           }
          ],
          "choropleth": [
           {
            "colorbar": {
             "outlinewidth": 0,
             "ticks": ""
            },
            "type": "choropleth"
           }
          ],
          "contour": [
           {
            "colorbar": {
             "outlinewidth": 0,
             "ticks": ""
            },
            "colorscale": [
             [
              0,
              "#0d0887"
             ],
             [
              0.1111111111111111,
              "#46039f"
             ],
             [
              0.2222222222222222,
              "#7201a8"
             ],
             [
              0.3333333333333333,
              "#9c179e"
             ],
             [
              0.4444444444444444,
              "#bd3786"
             ],
             [
              0.5555555555555556,
              "#d8576b"
             ],
             [
              0.6666666666666666,
              "#ed7953"
             ],
             [
              0.7777777777777778,
              "#fb9f3a"
             ],
             [
              0.8888888888888888,
              "#fdca26"
             ],
             [
              1,
              "#f0f921"
             ]
            ],
            "type": "contour"
           }
          ],
          "contourcarpet": [
           {
            "colorbar": {
             "outlinewidth": 0,
             "ticks": ""
            },
            "type": "contourcarpet"
           }
          ],
          "heatmap": [
           {
            "colorbar": {
             "outlinewidth": 0,
             "ticks": ""
            },
            "colorscale": [
             [
              0,
              "#0d0887"
             ],
             [
              0.1111111111111111,
              "#46039f"
             ],
             [
              0.2222222222222222,
              "#7201a8"
             ],
             [
              0.3333333333333333,
              "#9c179e"
             ],
             [
              0.4444444444444444,
              "#bd3786"
             ],
             [
              0.5555555555555556,
              "#d8576b"
             ],
             [
              0.6666666666666666,
              "#ed7953"
             ],
             [
              0.7777777777777778,
              "#fb9f3a"
             ],
             [
              0.8888888888888888,
              "#fdca26"
             ],
             [
              1,
              "#f0f921"
             ]
            ],
            "type": "heatmap"
           }
          ],
          "heatmapgl": [
           {
            "colorbar": {
             "outlinewidth": 0,
             "ticks": ""
            },
            "colorscale": [
             [
              0,
              "#0d0887"
             ],
             [
              0.1111111111111111,
              "#46039f"
             ],
             [
              0.2222222222222222,
              "#7201a8"
             ],
             [
              0.3333333333333333,
              "#9c179e"
             ],
             [
              0.4444444444444444,
              "#bd3786"
             ],
             [
              0.5555555555555556,
              "#d8576b"
             ],
             [
              0.6666666666666666,
              "#ed7953"
             ],
             [
              0.7777777777777778,
              "#fb9f3a"
             ],
             [
              0.8888888888888888,
              "#fdca26"
             ],
             [
              1,
              "#f0f921"
             ]
            ],
            "type": "heatmapgl"
           }
          ],
          "histogram": [
           {
            "marker": {
             "colorbar": {
              "outlinewidth": 0,
              "ticks": ""
             }
            },
            "type": "histogram"
           }
          ],
          "histogram2d": [
           {
            "colorbar": {
             "outlinewidth": 0,
             "ticks": ""
            },
            "colorscale": [
             [
              0,
              "#0d0887"
             ],
             [
              0.1111111111111111,
              "#46039f"
             ],
             [
              0.2222222222222222,
              "#7201a8"
             ],
             [
              0.3333333333333333,
              "#9c179e"
             ],
             [
              0.4444444444444444,
              "#bd3786"
             ],
             [
              0.5555555555555556,
              "#d8576b"
             ],
             [
              0.6666666666666666,
              "#ed7953"
             ],
             [
              0.7777777777777778,
              "#fb9f3a"
             ],
             [
              0.8888888888888888,
              "#fdca26"
             ],
             [
              1,
              "#f0f921"
             ]
            ],
            "type": "histogram2d"
           }
          ],
          "histogram2dcontour": [
           {
            "colorbar": {
             "outlinewidth": 0,
             "ticks": ""
            },
            "colorscale": [
             [
              0,
              "#0d0887"
             ],
             [
              0.1111111111111111,
              "#46039f"
             ],
             [
              0.2222222222222222,
              "#7201a8"
             ],
             [
              0.3333333333333333,
              "#9c179e"
             ],
             [
              0.4444444444444444,
              "#bd3786"
             ],
             [
              0.5555555555555556,
              "#d8576b"
             ],
             [
              0.6666666666666666,
              "#ed7953"
             ],
             [
              0.7777777777777778,
              "#fb9f3a"
             ],
             [
              0.8888888888888888,
              "#fdca26"
             ],
             [
              1,
              "#f0f921"
             ]
            ],
            "type": "histogram2dcontour"
           }
          ],
          "mesh3d": [
           {
            "colorbar": {
             "outlinewidth": 0,
             "ticks": ""
            },
            "type": "mesh3d"
           }
          ],
          "parcoords": [
           {
            "line": {
             "colorbar": {
              "outlinewidth": 0,
              "ticks": ""
             }
            },
            "type": "parcoords"
           }
          ],
          "pie": [
           {
            "automargin": true,
            "type": "pie"
           }
          ],
          "scatter": [
           {
            "marker": {
             "colorbar": {
              "outlinewidth": 0,
              "ticks": ""
             }
            },
            "type": "scatter"
           }
          ],
          "scatter3d": [
           {
            "line": {
             "colorbar": {
              "outlinewidth": 0,
              "ticks": ""
             }
            },
            "marker": {
             "colorbar": {
              "outlinewidth": 0,
              "ticks": ""
             }
            },
            "type": "scatter3d"
           }
          ],
          "scattercarpet": [
           {
            "marker": {
             "colorbar": {
              "outlinewidth": 0,
              "ticks": ""
             }
            },
            "type": "scattercarpet"
           }
          ],
          "scattergeo": [
           {
            "marker": {
             "colorbar": {
              "outlinewidth": 0,
              "ticks": ""
             }
            },
            "type": "scattergeo"
           }
          ],
          "scattergl": [
           {
            "marker": {
             "colorbar": {
              "outlinewidth": 0,
              "ticks": ""
             }
            },
            "type": "scattergl"
           }
          ],
          "scattermapbox": [
           {
            "marker": {
             "colorbar": {
              "outlinewidth": 0,
              "ticks": ""
             }
            },
            "type": "scattermapbox"
           }
          ],
          "scatterpolar": [
           {
            "marker": {
             "colorbar": {
              "outlinewidth": 0,
              "ticks": ""
             }
            },
            "type": "scatterpolar"
           }
          ],
          "scatterpolargl": [
           {
            "marker": {
             "colorbar": {
              "outlinewidth": 0,
              "ticks": ""
             }
            },
            "type": "scatterpolargl"
           }
          ],
          "scatterternary": [
           {
            "marker": {
             "colorbar": {
              "outlinewidth": 0,
              "ticks": ""
             }
            },
            "type": "scatterternary"
           }
          ],
          "surface": [
           {
            "colorbar": {
             "outlinewidth": 0,
             "ticks": ""
            },
            "colorscale": [
             [
              0,
              "#0d0887"
             ],
             [
              0.1111111111111111,
              "#46039f"
             ],
             [
              0.2222222222222222,
              "#7201a8"
             ],
             [
              0.3333333333333333,
              "#9c179e"
             ],
             [
              0.4444444444444444,
              "#bd3786"
             ],
             [
              0.5555555555555556,
              "#d8576b"
             ],
             [
              0.6666666666666666,
              "#ed7953"
             ],
             [
              0.7777777777777778,
              "#fb9f3a"
             ],
             [
              0.8888888888888888,
              "#fdca26"
             ],
             [
              1,
              "#f0f921"
             ]
            ],
            "type": "surface"
           }
          ],
          "table": [
           {
            "cells": {
             "fill": {
              "color": "#EBF0F8"
             },
             "line": {
              "color": "white"
             }
            },
            "header": {
             "fill": {
              "color": "#C8D4E3"
             },
             "line": {
              "color": "white"
             }
            },
            "type": "table"
           }
          ]
         },
         "layout": {
          "annotationdefaults": {
           "arrowcolor": "#2a3f5f",
           "arrowhead": 0,
           "arrowwidth": 1
          },
          "coloraxis": {
           "colorbar": {
            "outlinewidth": 0,
            "ticks": ""
           }
          },
          "colorscale": {
           "diverging": [
            [
             0,
             "#8e0152"
            ],
            [
             0.1,
             "#c51b7d"
            ],
            [
             0.2,
             "#de77ae"
            ],
            [
             0.3,
             "#f1b6da"
            ],
            [
             0.4,
             "#fde0ef"
            ],
            [
             0.5,
             "#f7f7f7"
            ],
            [
             0.6,
             "#e6f5d0"
            ],
            [
             0.7,
             "#b8e186"
            ],
            [
             0.8,
             "#7fbc41"
            ],
            [
             0.9,
             "#4d9221"
            ],
            [
             1,
             "#276419"
            ]
           ],
           "sequential": [
            [
             0,
             "#0d0887"
            ],
            [
             0.1111111111111111,
             "#46039f"
            ],
            [
             0.2222222222222222,
             "#7201a8"
            ],
            [
             0.3333333333333333,
             "#9c179e"
            ],
            [
             0.4444444444444444,
             "#bd3786"
            ],
            [
             0.5555555555555556,
             "#d8576b"
            ],
            [
             0.6666666666666666,
             "#ed7953"
            ],
            [
             0.7777777777777778,
             "#fb9f3a"
            ],
            [
             0.8888888888888888,
             "#fdca26"
            ],
            [
             1,
             "#f0f921"
            ]
           ],
           "sequentialminus": [
            [
             0,
             "#0d0887"
            ],
            [
             0.1111111111111111,
             "#46039f"
            ],
            [
             0.2222222222222222,
             "#7201a8"
            ],
            [
             0.3333333333333333,
             "#9c179e"
            ],
            [
             0.4444444444444444,
             "#bd3786"
            ],
            [
             0.5555555555555556,
             "#d8576b"
            ],
            [
             0.6666666666666666,
             "#ed7953"
            ],
            [
             0.7777777777777778,
             "#fb9f3a"
            ],
            [
             0.8888888888888888,
             "#fdca26"
            ],
            [
             1,
             "#f0f921"
            ]
           ]
          },
          "colorway": [
           "#636efa",
           "#EF553B",
           "#00cc96",
           "#ab63fa",
           "#FFA15A",
           "#19d3f3",
           "#FF6692",
           "#B6E880",
           "#FF97FF",
           "#FECB52"
          ],
          "font": {
           "color": "#2a3f5f"
          },
          "geo": {
           "bgcolor": "white",
           "lakecolor": "white",
           "landcolor": "#E5ECF6",
           "showlakes": true,
           "showland": true,
           "subunitcolor": "white"
          },
          "hoverlabel": {
           "align": "left"
          },
          "hovermode": "closest",
          "mapbox": {
           "style": "light"
          },
          "paper_bgcolor": "white",
          "plot_bgcolor": "#E5ECF6",
          "polar": {
           "angularaxis": {
            "gridcolor": "white",
            "linecolor": "white",
            "ticks": ""
           },
           "bgcolor": "#E5ECF6",
           "radialaxis": {
            "gridcolor": "white",
            "linecolor": "white",
            "ticks": ""
           }
          },
          "scene": {
           "xaxis": {
            "backgroundcolor": "#E5ECF6",
            "gridcolor": "white",
            "gridwidth": 2,
            "linecolor": "white",
            "showbackground": true,
            "ticks": "",
            "zerolinecolor": "white"
           },
           "yaxis": {
            "backgroundcolor": "#E5ECF6",
            "gridcolor": "white",
            "gridwidth": 2,
            "linecolor": "white",
            "showbackground": true,
            "ticks": "",
            "zerolinecolor": "white"
           },
           "zaxis": {
            "backgroundcolor": "#E5ECF6",
            "gridcolor": "white",
            "gridwidth": 2,
            "linecolor": "white",
            "showbackground": true,
            "ticks": "",
            "zerolinecolor": "white"
           }
          },
          "shapedefaults": {
           "line": {
            "color": "#2a3f5f"
           }
          },
          "ternary": {
           "aaxis": {
            "gridcolor": "white",
            "linecolor": "white",
            "ticks": ""
           },
           "baxis": {
            "gridcolor": "white",
            "linecolor": "white",
            "ticks": ""
           },
           "bgcolor": "#E5ECF6",
           "caxis": {
            "gridcolor": "white",
            "linecolor": "white",
            "ticks": ""
           }
          },
          "title": {
           "x": 0.05
          },
          "xaxis": {
           "automargin": true,
           "gridcolor": "white",
           "linecolor": "white",
           "ticks": "",
           "title": {
            "standoff": 15
           },
           "zerolinecolor": "white",
           "zerolinewidth": 2
          },
          "yaxis": {
           "automargin": true,
           "gridcolor": "white",
           "linecolor": "white",
           "ticks": "",
           "title": {
            "standoff": 15
           },
           "zerolinecolor": "white",
           "zerolinewidth": 2
          }
         }
        },
        "xaxis": {
         "anchor": "y",
         "domain": [
          0,
          1
         ],
         "title": {
          "text": "day"
         }
        },
        "yaxis": {
         "anchor": "x",
         "domain": [
          0,
          1
         ],
         "title": {
          "text": "new"
         }
        }
       }
      },
      "text/html": [
       "<div>\n",
       "        \n",
       "        \n",
       "            <div id=\"0651168c-2673-4fef-af9f-b165e8df3bcf\" class=\"plotly-graph-div\" style=\"height:525px; width:100%;\"></div>\n",
       "            <script type=\"text/javascript\">\n",
       "                require([\"plotly\"], function(Plotly) {\n",
       "                    window.PLOTLYENV=window.PLOTLYENV || {};\n",
       "                    \n",
       "                if (document.getElementById(\"0651168c-2673-4fef-af9f-b165e8df3bcf\")) {\n",
       "                    Plotly.newPlot(\n",
       "                        '0651168c-2673-4fef-af9f-b165e8df3bcf',\n",
       "                        [{\"hovertemplate\": \"day=%{x}<br>new=%{y}<br>targets2=%{marker.color}<extra></extra>\", \"legendgroup\": \"\", \"marker\": {\"color\": [0, 0, 0, 0, 0, 0, 0, 0, 0, 0, 0, 0, 0, 1, 1, 1, 1, 1, 1, 1, 1, 1, 1, 1, 1, 1, 1, 1, 1, 1, 1, 1, 1, 1, 1, 1, 2, 2, 2, 3, 3, 3, 3, 3, 3, 3, 3, 3], \"coloraxis\": \"coloraxis\", \"symbol\": \"circle\"}, \"mode\": \"markers\", \"name\": \"\", \"showlegend\": false, \"type\": \"scatter\", \"x\": [0, 1, 2, 3, 4, 5, 6, 7, 8, 9, 10, 11, 12, 13, 14, 15, 16, 17, 18, 19, 20, 21, 22, 23, 24, 25, 26, 27, 28, 29, 30, 31, 32, 33, 34, 35, 36, 37, 38, 39, 40, 41, 42, 43, 44, 45, 46, 47], \"xaxis\": \"x\", \"y\": [1.0, 0.0, 0.0, 0.0, 0.0, 0.0, 0.0, 0.0, 0.0, 0.0, 0.0, 0.0, 0.0, 3.0, 0.0, 1.0, 2.0, 0.0, 0.0, 4.0, 5.0, 5.0, 1.0, 0.0, 0.0, 2.0, 0.0, 16.0, 0.0, 34.0, 10.0, 10.0, 16.0, 0.0, 10.0, 50.0, 4.0, 63.0, 36.0, 8.0, 18.0, 50.0, 18.0, 56.0, 21.0, 40.0, 37.0, 34.0], \"yaxis\": \"y\"}, {\"hovertemplate\": \"<b>LOWESS trendline</b><br><br>day=%{x}<br>new=%{y} <b>(trend)</b><extra></extra>\", \"legendgroup\": \"\", \"marker\": {\"symbol\": \"circle\"}, \"mode\": \"lines\", \"name\": \"\", \"showlegend\": false, \"type\": \"scatter\", \"x\": [0, 1, 2, 3, 4, 5, 6, 7, 8, 9, 10, 11, 12, 13, 14, 15, 16, 17, 18, 19, 20, 21, 22, 23, 24, 25, 26, 27, 28, 29, 30, 31, 32, 33, 34, 35, 36, 37, 38, 39, 40, 41, 42, 43, 44, 45, 46, 47], \"xaxis\": \"x\", \"y\": [-0.36134740549259076, -0.26553135558594343, -0.16731769899832777, -0.06688135599020108, 0.035539729591270865, 0.13965770137650307, 0.24515029478837397, 0.35167963363151905, 0.45891591526297243, 0.5665692718833081, 0.6744370321665086, 0.7824836172663495, 0.8909997414283217, 1.0009835735606478, 1.1149847014366274, 1.238424851017619, 1.3883392385612594, 1.5810885275440618, 1.8425816175217011, 2.1807531536100746, 2.590388810901905, 3.0575983510752502, 3.567971142304447, 4.110865737716034, 4.681142410637053, 5.280052955454177, 5.915873358327498, 6.597898016612548, 7.335892796488184, 8.138995043530194, 9.048252001892909, 10.220969052843701, 11.818222455264332, 14.056592661882283, 16.018500722041196, 17.758500969901725, 19.399199143157546, 20.99716139416074, 22.576915180637773, 24.149826243081755, 25.72156974412183, 27.295328095598066, 28.873513319155652, 30.457774376843616, 32.04921847092945, 33.648567021636225, 35.255974344076414, 36.87012490701787], \"yaxis\": \"y\"}],\n",
       "                        {\"coloraxis\": {\"colorbar\": {\"title\": {\"text\": \"targets2\"}}, \"colorscale\": [[0.0, \"#0d0887\"], [0.1111111111111111, \"#46039f\"], [0.2222222222222222, \"#7201a8\"], [0.3333333333333333, \"#9c179e\"], [0.4444444444444444, \"#bd3786\"], [0.5555555555555556, \"#d8576b\"], [0.6666666666666666, \"#ed7953\"], [0.7777777777777778, \"#fb9f3a\"], [0.8888888888888888, \"#fdca26\"], [1.0, \"#f0f921\"]]}, \"legend\": {\"tracegroupgap\": 0}, \"margin\": {\"t\": 60}, \"template\": {\"data\": {\"bar\": [{\"error_x\": {\"color\": \"#2a3f5f\"}, \"error_y\": {\"color\": \"#2a3f5f\"}, \"marker\": {\"line\": {\"color\": \"#E5ECF6\", \"width\": 0.5}}, \"type\": \"bar\"}], \"barpolar\": [{\"marker\": {\"line\": {\"color\": \"#E5ECF6\", \"width\": 0.5}}, \"type\": \"barpolar\"}], \"carpet\": [{\"aaxis\": {\"endlinecolor\": \"#2a3f5f\", \"gridcolor\": \"white\", \"linecolor\": \"white\", \"minorgridcolor\": \"white\", \"startlinecolor\": \"#2a3f5f\"}, \"baxis\": {\"endlinecolor\": \"#2a3f5f\", \"gridcolor\": \"white\", \"linecolor\": \"white\", \"minorgridcolor\": \"white\", \"startlinecolor\": \"#2a3f5f\"}, \"type\": \"carpet\"}], \"choropleth\": [{\"colorbar\": {\"outlinewidth\": 0, \"ticks\": \"\"}, \"type\": \"choropleth\"}], \"contour\": [{\"colorbar\": {\"outlinewidth\": 0, \"ticks\": \"\"}, \"colorscale\": [[0.0, \"#0d0887\"], [0.1111111111111111, \"#46039f\"], [0.2222222222222222, \"#7201a8\"], [0.3333333333333333, \"#9c179e\"], [0.4444444444444444, \"#bd3786\"], [0.5555555555555556, \"#d8576b\"], [0.6666666666666666, \"#ed7953\"], [0.7777777777777778, \"#fb9f3a\"], [0.8888888888888888, \"#fdca26\"], [1.0, \"#f0f921\"]], \"type\": \"contour\"}], \"contourcarpet\": [{\"colorbar\": {\"outlinewidth\": 0, \"ticks\": \"\"}, \"type\": \"contourcarpet\"}], \"heatmap\": [{\"colorbar\": {\"outlinewidth\": 0, \"ticks\": \"\"}, \"colorscale\": [[0.0, \"#0d0887\"], [0.1111111111111111, \"#46039f\"], [0.2222222222222222, \"#7201a8\"], [0.3333333333333333, \"#9c179e\"], [0.4444444444444444, \"#bd3786\"], [0.5555555555555556, \"#d8576b\"], [0.6666666666666666, \"#ed7953\"], [0.7777777777777778, \"#fb9f3a\"], [0.8888888888888888, \"#fdca26\"], [1.0, \"#f0f921\"]], \"type\": \"heatmap\"}], \"heatmapgl\": [{\"colorbar\": {\"outlinewidth\": 0, \"ticks\": \"\"}, \"colorscale\": [[0.0, \"#0d0887\"], [0.1111111111111111, \"#46039f\"], [0.2222222222222222, \"#7201a8\"], [0.3333333333333333, \"#9c179e\"], [0.4444444444444444, \"#bd3786\"], [0.5555555555555556, \"#d8576b\"], [0.6666666666666666, \"#ed7953\"], [0.7777777777777778, \"#fb9f3a\"], [0.8888888888888888, \"#fdca26\"], [1.0, \"#f0f921\"]], \"type\": \"heatmapgl\"}], \"histogram\": [{\"marker\": {\"colorbar\": {\"outlinewidth\": 0, \"ticks\": \"\"}}, \"type\": \"histogram\"}], \"histogram2d\": [{\"colorbar\": {\"outlinewidth\": 0, \"ticks\": \"\"}, \"colorscale\": [[0.0, \"#0d0887\"], [0.1111111111111111, \"#46039f\"], [0.2222222222222222, \"#7201a8\"], [0.3333333333333333, \"#9c179e\"], [0.4444444444444444, \"#bd3786\"], [0.5555555555555556, \"#d8576b\"], [0.6666666666666666, \"#ed7953\"], [0.7777777777777778, \"#fb9f3a\"], [0.8888888888888888, \"#fdca26\"], [1.0, \"#f0f921\"]], \"type\": \"histogram2d\"}], \"histogram2dcontour\": [{\"colorbar\": {\"outlinewidth\": 0, \"ticks\": \"\"}, \"colorscale\": [[0.0, \"#0d0887\"], [0.1111111111111111, \"#46039f\"], [0.2222222222222222, \"#7201a8\"], [0.3333333333333333, \"#9c179e\"], [0.4444444444444444, \"#bd3786\"], [0.5555555555555556, \"#d8576b\"], [0.6666666666666666, \"#ed7953\"], [0.7777777777777778, \"#fb9f3a\"], [0.8888888888888888, \"#fdca26\"], [1.0, \"#f0f921\"]], \"type\": \"histogram2dcontour\"}], \"mesh3d\": [{\"colorbar\": {\"outlinewidth\": 0, \"ticks\": \"\"}, \"type\": \"mesh3d\"}], \"parcoords\": [{\"line\": {\"colorbar\": {\"outlinewidth\": 0, \"ticks\": \"\"}}, \"type\": \"parcoords\"}], \"pie\": [{\"automargin\": true, \"type\": \"pie\"}], \"scatter\": [{\"marker\": {\"colorbar\": {\"outlinewidth\": 0, \"ticks\": \"\"}}, \"type\": \"scatter\"}], \"scatter3d\": [{\"line\": {\"colorbar\": {\"outlinewidth\": 0, \"ticks\": \"\"}}, \"marker\": {\"colorbar\": {\"outlinewidth\": 0, \"ticks\": \"\"}}, \"type\": \"scatter3d\"}], \"scattercarpet\": [{\"marker\": {\"colorbar\": {\"outlinewidth\": 0, \"ticks\": \"\"}}, \"type\": \"scattercarpet\"}], \"scattergeo\": [{\"marker\": {\"colorbar\": {\"outlinewidth\": 0, \"ticks\": \"\"}}, \"type\": \"scattergeo\"}], \"scattergl\": [{\"marker\": {\"colorbar\": {\"outlinewidth\": 0, \"ticks\": \"\"}}, \"type\": \"scattergl\"}], \"scattermapbox\": [{\"marker\": {\"colorbar\": {\"outlinewidth\": 0, \"ticks\": \"\"}}, \"type\": \"scattermapbox\"}], \"scatterpolar\": [{\"marker\": {\"colorbar\": {\"outlinewidth\": 0, \"ticks\": \"\"}}, \"type\": \"scatterpolar\"}], \"scatterpolargl\": [{\"marker\": {\"colorbar\": {\"outlinewidth\": 0, \"ticks\": \"\"}}, \"type\": \"scatterpolargl\"}], \"scatterternary\": [{\"marker\": {\"colorbar\": {\"outlinewidth\": 0, \"ticks\": \"\"}}, \"type\": \"scatterternary\"}], \"surface\": [{\"colorbar\": {\"outlinewidth\": 0, \"ticks\": \"\"}, \"colorscale\": [[0.0, \"#0d0887\"], [0.1111111111111111, \"#46039f\"], [0.2222222222222222, \"#7201a8\"], [0.3333333333333333, \"#9c179e\"], [0.4444444444444444, \"#bd3786\"], [0.5555555555555556, \"#d8576b\"], [0.6666666666666666, \"#ed7953\"], [0.7777777777777778, \"#fb9f3a\"], [0.8888888888888888, \"#fdca26\"], [1.0, \"#f0f921\"]], \"type\": \"surface\"}], \"table\": [{\"cells\": {\"fill\": {\"color\": \"#EBF0F8\"}, \"line\": {\"color\": \"white\"}}, \"header\": {\"fill\": {\"color\": \"#C8D4E3\"}, \"line\": {\"color\": \"white\"}}, \"type\": \"table\"}]}, \"layout\": {\"annotationdefaults\": {\"arrowcolor\": \"#2a3f5f\", \"arrowhead\": 0, \"arrowwidth\": 1}, \"coloraxis\": {\"colorbar\": {\"outlinewidth\": 0, \"ticks\": \"\"}}, \"colorscale\": {\"diverging\": [[0, \"#8e0152\"], [0.1, \"#c51b7d\"], [0.2, \"#de77ae\"], [0.3, \"#f1b6da\"], [0.4, \"#fde0ef\"], [0.5, \"#f7f7f7\"], [0.6, \"#e6f5d0\"], [0.7, \"#b8e186\"], [0.8, \"#7fbc41\"], [0.9, \"#4d9221\"], [1, \"#276419\"]], \"sequential\": [[0.0, \"#0d0887\"], [0.1111111111111111, \"#46039f\"], [0.2222222222222222, \"#7201a8\"], [0.3333333333333333, \"#9c179e\"], [0.4444444444444444, \"#bd3786\"], [0.5555555555555556, \"#d8576b\"], [0.6666666666666666, \"#ed7953\"], [0.7777777777777778, \"#fb9f3a\"], [0.8888888888888888, \"#fdca26\"], [1.0, \"#f0f921\"]], \"sequentialminus\": [[0.0, \"#0d0887\"], [0.1111111111111111, \"#46039f\"], [0.2222222222222222, \"#7201a8\"], [0.3333333333333333, \"#9c179e\"], [0.4444444444444444, \"#bd3786\"], [0.5555555555555556, \"#d8576b\"], [0.6666666666666666, \"#ed7953\"], [0.7777777777777778, \"#fb9f3a\"], [0.8888888888888888, \"#fdca26\"], [1.0, \"#f0f921\"]]}, \"colorway\": [\"#636efa\", \"#EF553B\", \"#00cc96\", \"#ab63fa\", \"#FFA15A\", \"#19d3f3\", \"#FF6692\", \"#B6E880\", \"#FF97FF\", \"#FECB52\"], \"font\": {\"color\": \"#2a3f5f\"}, \"geo\": {\"bgcolor\": \"white\", \"lakecolor\": \"white\", \"landcolor\": \"#E5ECF6\", \"showlakes\": true, \"showland\": true, \"subunitcolor\": \"white\"}, \"hoverlabel\": {\"align\": \"left\"}, \"hovermode\": \"closest\", \"mapbox\": {\"style\": \"light\"}, \"paper_bgcolor\": \"white\", \"plot_bgcolor\": \"#E5ECF6\", \"polar\": {\"angularaxis\": {\"gridcolor\": \"white\", \"linecolor\": \"white\", \"ticks\": \"\"}, \"bgcolor\": \"#E5ECF6\", \"radialaxis\": {\"gridcolor\": \"white\", \"linecolor\": \"white\", \"ticks\": \"\"}}, \"scene\": {\"xaxis\": {\"backgroundcolor\": \"#E5ECF6\", \"gridcolor\": \"white\", \"gridwidth\": 2, \"linecolor\": \"white\", \"showbackground\": true, \"ticks\": \"\", \"zerolinecolor\": \"white\"}, \"yaxis\": {\"backgroundcolor\": \"#E5ECF6\", \"gridcolor\": \"white\", \"gridwidth\": 2, \"linecolor\": \"white\", \"showbackground\": true, \"ticks\": \"\", \"zerolinecolor\": \"white\"}, \"zaxis\": {\"backgroundcolor\": \"#E5ECF6\", \"gridcolor\": \"white\", \"gridwidth\": 2, \"linecolor\": \"white\", \"showbackground\": true, \"ticks\": \"\", \"zerolinecolor\": \"white\"}}, \"shapedefaults\": {\"line\": {\"color\": \"#2a3f5f\"}}, \"ternary\": {\"aaxis\": {\"gridcolor\": \"white\", \"linecolor\": \"white\", \"ticks\": \"\"}, \"baxis\": {\"gridcolor\": \"white\", \"linecolor\": \"white\", \"ticks\": \"\"}, \"bgcolor\": \"#E5ECF6\", \"caxis\": {\"gridcolor\": \"white\", \"linecolor\": \"white\", \"ticks\": \"\"}}, \"title\": {\"x\": 0.05}, \"xaxis\": {\"automargin\": true, \"gridcolor\": \"white\", \"linecolor\": \"white\", \"ticks\": \"\", \"title\": {\"standoff\": 15}, \"zerolinecolor\": \"white\", \"zerolinewidth\": 2}, \"yaxis\": {\"automargin\": true, \"gridcolor\": \"white\", \"linecolor\": \"white\", \"ticks\": \"\", \"title\": {\"standoff\": 15}, \"zerolinecolor\": \"white\", \"zerolinewidth\": 2}}}, \"xaxis\": {\"anchor\": \"y\", \"domain\": [0.0, 1.0], \"title\": {\"text\": \"day\"}}, \"yaxis\": {\"anchor\": \"x\", \"domain\": [0.0, 1.0], \"title\": {\"text\": \"new\"}}},\n",
       "                        {\"responsive\": true}\n",
       "                    ).then(function(){\n",
       "                            \n",
       "var gd = document.getElementById('0651168c-2673-4fef-af9f-b165e8df3bcf');\n",
       "var x = new MutationObserver(function (mutations, observer) {{\n",
       "        var display = window.getComputedStyle(gd).display;\n",
       "        if (!display || display === 'none') {{\n",
       "            console.log([gd, 'removed!']);\n",
       "            Plotly.purge(gd);\n",
       "            observer.disconnect();\n",
       "        }}\n",
       "}});\n",
       "\n",
       "// Listen for the removal of the full notebook cells\n",
       "var notebookContainer = gd.closest('#notebook-container');\n",
       "if (notebookContainer) {{\n",
       "    x.observe(notebookContainer, {childList: true});\n",
       "}}\n",
       "\n",
       "// Listen for the clearing of the current output cell\n",
       "var outputEl = gd.closest('.output');\n",
       "if (outputEl) {{\n",
       "    x.observe(outputEl, {childList: true});\n",
       "}}\n",
       "\n",
       "                        })\n",
       "                };\n",
       "                });\n",
       "            </script>\n",
       "        </div>"
      ]
     },
     "metadata": {},
     "output_type": "display_data"
    }
   ],
   "source": [
    "#Visual check to make sure labels were applied properly\n",
    "c = 'Afghanistan0'\n",
    "\n",
    "#View a plot of the data\n",
    "fig = px.scatter(forPlot[forPlot['country'] == c], x='day', y='new', color = 'targets2', trendline=\"lowess\")\n",
    "fig.show()"
   ]
  },
  {
   "cell_type": "code",
   "execution_count": 346,
   "metadata": {},
   "outputs": [],
   "source": [
    "#new = forPlot['targets'].str.split(\" \", n = 1, expand = True) \n",
    "#forPlot[\"incline\"]= new[0] \n",
    "#forPlot[\"height\"]= new[1]\n",
    "\n",
    "#Shuffle and split x and y, test and train and scale\n",
    "forPlot2 = forPlot.sample(frac=1)\n",
    "n_train = int(len(forPlot)*0.8)\n",
    "\n",
    "X = pd.concat([forPlot2['day'], forPlot2.iloc[:, 4:6], forPlot2.iloc[:, 8:13]], axis = 1)\n",
    "y = forPlot2['targets'].reset_index(drop=True)\n",
    "\n",
    "scalerX = preprocessing.StandardScaler()\n",
    "\n",
    "X2 = scalerX.fit_transform(X)\n",
    "y2 = []\n",
    "for i in range(len(y)):\n",
    "    y2.append(np.array(y[i]).reshape(-1, 1))\n",
    "y3 = np.array(y2).reshape(5743, 2)\n",
    "\n",
    "X_train = X2[:n_train]\n",
    "X_test = X2[n_train:]\n",
    "y_train = np.array(y2[:n_train]).reshape(4594, 2)\n",
    "y_test = np.array(y2[n_train:]).reshape(1149, 2)"
   ]
  },
  {
   "cell_type": "code",
   "execution_count": 322,
   "metadata": {},
   "outputs": [
    {
     "name": "stdout",
     "output_type": "stream",
     "text": [
      "Epoch 1/150\n",
      "4594/4594 [==============================] - 1s 195us/step - loss: 0.5795 - accuracy: 0.7453\n",
      "Epoch 2/150\n",
      "4594/4594 [==============================] - 1s 149us/step - loss: 0.4355 - accuracy: 0.8158\n",
      "Epoch 3/150\n",
      "4594/4594 [==============================] - 1s 150us/step - loss: 0.4202 - accuracy: 0.8172\n",
      "Epoch 4/150\n",
      "4594/4594 [==============================] - 1s 144us/step - loss: 0.4122 - accuracy: 0.8187\n",
      "Epoch 5/150\n",
      "4594/4594 [==============================] - 1s 152us/step - loss: 0.4069 - accuracy: 0.8182\n",
      "Epoch 6/150\n",
      "4594/4594 [==============================] - 1s 151us/step - loss: 0.3999 - accuracy: 0.8180\n",
      "Epoch 7/150\n",
      "4594/4594 [==============================] - 1s 149us/step - loss: 0.3951 - accuracy: 0.8198\n",
      "Epoch 8/150\n",
      "4594/4594 [==============================] - 1s 163us/step - loss: 0.3899 - accuracy: 0.8206\n",
      "Epoch 9/150\n",
      "4594/4594 [==============================] - 1s 191us/step - loss: 0.3856 - accuracy: 0.8189\n",
      "Epoch 10/150\n",
      "4594/4594 [==============================] - 1s 157us/step - loss: 0.3807 - accuracy: 0.8185\n",
      "Epoch 11/150\n",
      "4594/4594 [==============================] - 1s 163us/step - loss: 0.3764 - accuracy: 0.8194\n",
      "Epoch 12/150\n",
      "4594/4594 [==============================] - 1s 164us/step - loss: 0.3726 - accuracy: 0.8205\n",
      "Epoch 13/150\n",
      "4594/4594 [==============================] - 1s 152us/step - loss: 0.3688 - accuracy: 0.8221\n",
      "Epoch 14/150\n",
      "4594/4594 [==============================] - 1s 151us/step - loss: 0.3655 - accuracy: 0.8234\n",
      "Epoch 15/150\n",
      "4594/4594 [==============================] - 1s 157us/step - loss: 0.3628 - accuracy: 0.8252\n",
      "Epoch 16/150\n",
      "4594/4594 [==============================] - 1s 157us/step - loss: 0.3610 - accuracy: 0.8215\n",
      "Epoch 17/150\n",
      "4594/4594 [==============================] - 1s 155us/step - loss: 0.3585 - accuracy: 0.8277\n",
      "Epoch 18/150\n",
      "4594/4594 [==============================] - 1s 158us/step - loss: 0.3547 - accuracy: 0.8243\n",
      "Epoch 19/150\n",
      "4594/4594 [==============================] - 1s 159us/step - loss: 0.3530 - accuracy: 0.8260\n",
      "Epoch 20/150\n",
      "4594/4594 [==============================] - 1s 155us/step - loss: 0.3501 - accuracy: 0.8291\n",
      "Epoch 21/150\n",
      "4594/4594 [==============================] - 1s 172us/step - loss: 0.3472 - accuracy: 0.8303\n",
      "Epoch 22/150\n",
      "4594/4594 [==============================] - 1s 172us/step - loss: 0.3457 - accuracy: 0.8312\n",
      "Epoch 23/150\n",
      "4594/4594 [==============================] - 1s 163us/step - loss: 0.3425 - accuracy: 0.8333\n",
      "Epoch 24/150\n",
      "4594/4594 [==============================] - 1s 159us/step - loss: 0.3415 - accuracy: 0.8336\n",
      "Epoch 25/150\n",
      "4594/4594 [==============================] - 1s 189us/step - loss: 0.3396 - accuracy: 0.8340\n",
      "Epoch 26/150\n",
      "4594/4594 [==============================] - 1s 156us/step - loss: 0.3377 - accuracy: 0.8374\n",
      "Epoch 27/150\n",
      "4594/4594 [==============================] - 1s 157us/step - loss: 0.3363 - accuracy: 0.8365\n",
      "Epoch 28/150\n",
      "4594/4594 [==============================] - 1s 153us/step - loss: 0.3340 - accuracy: 0.8390\n",
      "Epoch 29/150\n",
      "4594/4594 [==============================] - 1s 163us/step - loss: 0.3328 - accuracy: 0.8361\n",
      "Epoch 30/150\n",
      "4594/4594 [==============================] - 1s 168us/step - loss: 0.3306 - accuracy: 0.8424\n",
      "Epoch 31/150\n",
      "4594/4594 [==============================] - 1s 162us/step - loss: 0.3295 - accuracy: 0.8392\n",
      "Epoch 32/150\n",
      "4594/4594 [==============================] - 1s 169us/step - loss: 0.3281 - accuracy: 0.8437\n",
      "Epoch 33/150\n",
      "4594/4594 [==============================] - 1s 269us/step - loss: 0.3275 - accuracy: 0.8432\n",
      "Epoch 34/150\n",
      "4594/4594 [==============================] - 1s 166us/step - loss: 0.3250 - accuracy: 0.8472\n",
      "Epoch 35/150\n",
      "4594/4594 [==============================] - 1s 153us/step - loss: 0.3249 - accuracy: 0.8408\n",
      "Epoch 36/150\n",
      "4594/4594 [==============================] - 1s 153us/step - loss: 0.3236 - accuracy: 0.8453\n",
      "Epoch 37/150\n",
      "4594/4594 [==============================] - 1s 150us/step - loss: 0.3222 - accuracy: 0.8458\n",
      "Epoch 38/150\n",
      "4594/4594 [==============================] - 1s 153us/step - loss: 0.3231 - accuracy: 0.8391\n",
      "Epoch 39/150\n",
      "4594/4594 [==============================] - 1s 152us/step - loss: 0.3209 - accuracy: 0.8464\n",
      "Epoch 40/150\n",
      "4594/4594 [==============================] - 1s 152us/step - loss: 0.3202 - accuracy: 0.8448\n",
      "Epoch 41/150\n",
      "4594/4594 [==============================] - 1s 148us/step - loss: 0.3186 - accuracy: 0.8500\n",
      "Epoch 42/150\n",
      "4594/4594 [==============================] - 1s 154us/step - loss: 0.3187 - accuracy: 0.8413\n",
      "Epoch 43/150\n",
      "4594/4594 [==============================] - 1s 154us/step - loss: 0.3175 - accuracy: 0.8494\n",
      "Epoch 44/150\n",
      "4594/4594 [==============================] - 1s 152us/step - loss: 0.3173 - accuracy: 0.8432\n",
      "Epoch 45/150\n",
      "4594/4594 [==============================] - 1s 160us/step - loss: 0.3158 - accuracy: 0.8481\n",
      "Epoch 46/150\n",
      "4594/4594 [==============================] - 1s 158us/step - loss: 0.3155 - accuracy: 0.8471\n",
      "Epoch 47/150\n",
      "4594/4594 [==============================] - 1s 173us/step - loss: 0.3144 - accuracy: 0.84740s - loss: 0.3121 - accuracy\n",
      "Epoch 48/150\n",
      "4594/4594 [==============================] - 1s 160us/step - loss: 0.3137 - accuracy: 0.8468\n",
      "Epoch 49/150\n",
      "4594/4594 [==============================] - 1s 161us/step - loss: 0.3149 - accuracy: 0.8470\n",
      "Epoch 50/150\n",
      "4594/4594 [==============================] - 1s 162us/step - loss: 0.3127 - accuracy: 0.8498\n",
      "Epoch 51/150\n",
      "4594/4594 [==============================] - 1s 155us/step - loss: 0.3123 - accuracy: 0.8501\n",
      "Epoch 52/150\n",
      "4594/4594 [==============================] - 1s 153us/step - loss: 0.3107 - accuracy: 0.8492\n",
      "Epoch 53/150\n",
      "4594/4594 [==============================] - 1s 147us/step - loss: 0.3107 - accuracy: 0.8490\n",
      "Epoch 54/150\n",
      "4594/4594 [==============================] - 1s 159us/step - loss: 0.3102 - accuracy: 0.8495\n",
      "Epoch 55/150\n",
      "4594/4594 [==============================] - 1s 153us/step - loss: 0.3096 - accuracy: 0.8485\n",
      "Epoch 56/150\n",
      "4594/4594 [==============================] - 1s 151us/step - loss: 0.3093 - accuracy: 0.8493\n",
      "Epoch 57/150\n",
      "4594/4594 [==============================] - 1s 151us/step - loss: 0.3082 - accuracy: 0.8517\n",
      "Epoch 58/150\n",
      "4594/4594 [==============================] - 1s 152us/step - loss: 0.3077 - accuracy: 0.8486\n",
      "Epoch 59/150\n",
      "4594/4594 [==============================] - 1s 154us/step - loss: 0.3076 - accuracy: 0.8490\n",
      "Epoch 60/150\n",
      "4594/4594 [==============================] - 1s 152us/step - loss: 0.3073 - accuracy: 0.8520\n",
      "Epoch 61/150\n",
      "4594/4594 [==============================] - 1s 161us/step - loss: 0.3062 - accuracy: 0.8526\n",
      "Epoch 62/150\n",
      "4594/4594 [==============================] - 1s 160us/step - loss: 0.3056 - accuracy: 0.8547\n",
      "Epoch 63/150\n",
      "4594/4594 [==============================] - 1s 160us/step - loss: 0.3062 - accuracy: 0.8524\n",
      "Epoch 64/150\n",
      "4594/4594 [==============================] - 1s 160us/step - loss: 0.3048 - accuracy: 0.8525\n",
      "Epoch 65/150\n",
      "4594/4594 [==============================] - 1s 153us/step - loss: 0.3032 - accuracy: 0.8512\n",
      "Epoch 66/150\n",
      "4594/4594 [==============================] - 1s 153us/step - loss: 0.3030 - accuracy: 0.8508\n",
      "Epoch 67/150\n",
      "4594/4594 [==============================] - 1s 151us/step - loss: 0.3032 - accuracy: 0.8507\n",
      "Epoch 68/150\n",
      "4594/4594 [==============================] - 1s 161us/step - loss: 0.3019 - accuracy: 0.8550\n",
      "Epoch 69/150\n",
      "4594/4594 [==============================] - 1s 156us/step - loss: 0.3012 - accuracy: 0.8524\n",
      "Epoch 70/150\n",
      "4594/4594 [==============================] - 1s 157us/step - loss: 0.3006 - accuracy: 0.8525\n",
      "Epoch 71/150\n",
      "4594/4594 [==============================] - 1s 155us/step - loss: 0.3023 - accuracy: 0.8533\n",
      "Epoch 72/150\n",
      "4594/4594 [==============================] - 1s 152us/step - loss: 0.3008 - accuracy: 0.8567\n",
      "Epoch 73/150\n",
      "4594/4594 [==============================] - 1s 159us/step - loss: 0.2993 - accuracy: 0.8540\n",
      "Epoch 74/150\n",
      "4594/4594 [==============================] - 1s 159us/step - loss: 0.2994 - accuracy: 0.8554\n",
      "Epoch 75/150\n",
      "4594/4594 [==============================] - 1s 162us/step - loss: 0.2984 - accuracy: 0.8560\n",
      "Epoch 76/150\n",
      "4594/4594 [==============================] - 1s 163us/step - loss: 0.2982 - accuracy: 0.8536\n",
      "Epoch 77/150\n",
      "4594/4594 [==============================] - 1s 155us/step - loss: 0.2968 - accuracy: 0.8573\n",
      "Epoch 78/150\n"
     ]
    },
    {
     "name": "stdout",
     "output_type": "stream",
     "text": [
      "4594/4594 [==============================] - 1s 143us/step - loss: 0.2970 - accuracy: 0.8566\n",
      "Epoch 79/150\n",
      "4594/4594 [==============================] - 1s 140us/step - loss: 0.2955 - accuracy: 0.8595\n",
      "Epoch 80/150\n",
      "4594/4594 [==============================] - 1s 144us/step - loss: 0.2958 - accuracy: 0.8575\n",
      "Epoch 81/150\n",
      "4594/4594 [==============================] - 1s 142us/step - loss: 0.2952 - accuracy: 0.8576\n",
      "Epoch 82/150\n",
      "4594/4594 [==============================] - 1s 141us/step - loss: 0.2955 - accuracy: 0.8582\n",
      "Epoch 83/150\n",
      "4594/4594 [==============================] - 1s 148us/step - loss: 0.2945 - accuracy: 0.8594\n",
      "Epoch 84/150\n",
      "4594/4594 [==============================] - 1s 147us/step - loss: 0.2927 - accuracy: 0.8624\n",
      "Epoch 85/150\n",
      "4594/4594 [==============================] - 1s 145us/step - loss: 0.2922 - accuracy: 0.8626\n",
      "Epoch 86/150\n",
      "4594/4594 [==============================] - 1s 150us/step - loss: 0.2921 - accuracy: 0.8586\n",
      "Epoch 87/150\n",
      "4594/4594 [==============================] - 1s 146us/step - loss: 0.2916 - accuracy: 0.8595\n",
      "Epoch 88/150\n",
      "4594/4594 [==============================] - 1s 144us/step - loss: 0.2914 - accuracy: 0.8606\n",
      "Epoch 89/150\n",
      "4594/4594 [==============================] - 1s 142us/step - loss: 0.2902 - accuracy: 0.8612\n",
      "Epoch 90/150\n",
      "4594/4594 [==============================] - 1s 142us/step - loss: 0.2913 - accuracy: 0.8575\n",
      "Epoch 91/150\n",
      "4594/4594 [==============================] - 1s 151us/step - loss: 0.2910 - accuracy: 0.8614\n",
      "Epoch 92/150\n",
      "4594/4594 [==============================] - 1s 152us/step - loss: 0.2910 - accuracy: 0.8608\n",
      "Epoch 93/150\n",
      "4594/4594 [==============================] - 1s 169us/step - loss: 0.2883 - accuracy: 0.8625\n",
      "Epoch 94/150\n",
      "4594/4594 [==============================] - 1s 143us/step - loss: 0.2896 - accuracy: 0.8559\n",
      "Epoch 95/150\n",
      "4594/4594 [==============================] - 1s 147us/step - loss: 0.2872 - accuracy: 0.8634\n",
      "Epoch 96/150\n",
      "4594/4594 [==============================] - 1s 141us/step - loss: 0.2897 - accuracy: 0.8550\n",
      "Epoch 97/150\n",
      "4594/4594 [==============================] - 1s 145us/step - loss: 0.2873 - accuracy: 0.8624\n",
      "Epoch 98/150\n",
      "4594/4594 [==============================] - 1s 141us/step - loss: 0.2870 - accuracy: 0.8608\n",
      "Epoch 99/150\n",
      "4594/4594 [==============================] - 1s 144us/step - loss: 0.2868 - accuracy: 0.8619\n",
      "Epoch 100/150\n",
      "4594/4594 [==============================] - 1s 139us/step - loss: 0.2855 - accuracy: 0.8626\n",
      "Epoch 101/150\n",
      "4594/4594 [==============================] - 1s 145us/step - loss: 0.2863 - accuracy: 0.8609\n",
      "Epoch 102/150\n",
      "4594/4594 [==============================] - 1s 149us/step - loss: 0.2869 - accuracy: 0.8599\n",
      "Epoch 103/150\n",
      "4594/4594 [==============================] - 1s 146us/step - loss: 0.2871 - accuracy: 0.8608\n",
      "Epoch 104/150\n",
      "4594/4594 [==============================] - 1s 142us/step - loss: 0.2847 - accuracy: 0.8626\n",
      "Epoch 105/150\n",
      "4594/4594 [==============================] - 1s 140us/step - loss: 0.2840 - accuracy: 0.8626\n",
      "Epoch 106/150\n",
      "4594/4594 [==============================] - 1s 152us/step - loss: 0.2839 - accuracy: 0.8613\n",
      "Epoch 107/150\n",
      "4594/4594 [==============================] - 1s 140us/step - loss: 0.2851 - accuracy: 0.8643\n",
      "Epoch 108/150\n",
      "4594/4594 [==============================] - 1s 144us/step - loss: 0.2842 - accuracy: 0.8629\n",
      "Epoch 109/150\n",
      "4594/4594 [==============================] - 1s 141us/step - loss: 0.2826 - accuracy: 0.8606\n",
      "Epoch 110/150\n",
      "4594/4594 [==============================] - 1s 146us/step - loss: 0.2822 - accuracy: 0.8581\n",
      "Epoch 111/150\n",
      "4594/4594 [==============================] - 1s 140us/step - loss: 0.2830 - accuracy: 0.8621\n",
      "Epoch 112/150\n",
      "4594/4594 [==============================] - 1s 144us/step - loss: 0.2821 - accuracy: 0.8655\n",
      "Epoch 113/150\n",
      "4594/4594 [==============================] - 1s 169us/step - loss: 0.2809 - accuracy: 0.8631\n",
      "Epoch 114/150\n",
      "4594/4594 [==============================] - 1s 149us/step - loss: 0.2822 - accuracy: 0.8617\n",
      "Epoch 115/150\n",
      "4594/4594 [==============================] - 1s 151us/step - loss: 0.2805 - accuracy: 0.8644\n",
      "Epoch 116/150\n",
      "4594/4594 [==============================] - 1s 171us/step - loss: 0.2822 - accuracy: 0.8632\n",
      "Epoch 117/150\n",
      "4594/4594 [==============================] - 1s 216us/step - loss: 0.2801 - accuracy: 0.8641\n",
      "Epoch 118/150\n",
      "4594/4594 [==============================] - 1s 159us/step - loss: 0.2813 - accuracy: 0.8619\n",
      "Epoch 119/150\n",
      "4594/4594 [==============================] - 1s 151us/step - loss: 0.2796 - accuracy: 0.8612\n",
      "Epoch 120/150\n",
      "4594/4594 [==============================] - 1s 157us/step - loss: 0.2819 - accuracy: 0.8628\n",
      "Epoch 121/150\n",
      "4594/4594 [==============================] - 1s 173us/step - loss: 0.2784 - accuracy: 0.8656\n",
      "Epoch 122/150\n",
      "4594/4594 [==============================] - 1s 172us/step - loss: 0.2791 - accuracy: 0.8655\n",
      "Epoch 123/150\n",
      "4594/4594 [==============================] - 1s 154us/step - loss: 0.2787 - accuracy: 0.8642\n",
      "Epoch 124/150\n",
      "4594/4594 [==============================] - 1s 154us/step - loss: 0.2777 - accuracy: 0.8657\n",
      "Epoch 125/150\n",
      "4594/4594 [==============================] - 1s 156us/step - loss: 0.2782 - accuracy: 0.8632\n",
      "Epoch 126/150\n",
      "4594/4594 [==============================] - 1s 154us/step - loss: 0.2781 - accuracy: 0.8638\n",
      "Epoch 127/150\n",
      "4594/4594 [==============================] - 1s 159us/step - loss: 0.2770 - accuracy: 0.8652\n",
      "Epoch 128/150\n",
      "4594/4594 [==============================] - 1s 154us/step - loss: 0.2775 - accuracy: 0.8666\n",
      "Epoch 129/150\n",
      "4594/4594 [==============================] - 1s 162us/step - loss: 0.2766 - accuracy: 0.8655\n",
      "Epoch 130/150\n",
      "4594/4594 [==============================] - 1s 151us/step - loss: 0.2779 - accuracy: 0.8673\n",
      "Epoch 131/150\n",
      "4594/4594 [==============================] - 1s 173us/step - loss: 0.2764 - accuracy: 0.8629\n",
      "Epoch 132/150\n",
      "4594/4594 [==============================] - 1s 154us/step - loss: 0.2754 - accuracy: 0.8666\n",
      "Epoch 133/150\n",
      "4594/4594 [==============================] - 1s 151us/step - loss: 0.2763 - accuracy: 0.8680\n",
      "Epoch 134/150\n",
      "4594/4594 [==============================] - 1s 155us/step - loss: 0.2743 - accuracy: 0.8685\n",
      "Epoch 135/150\n",
      "4594/4594 [==============================] - 1s 152us/step - loss: 0.2746 - accuracy: 0.8707\n",
      "Epoch 136/150\n",
      "4594/4594 [==============================] - 1s 153us/step - loss: 0.2748 - accuracy: 0.8669\n",
      "Epoch 137/150\n",
      "4594/4594 [==============================] - 1s 237us/step - loss: 0.2755 - accuracy: 0.8677\n",
      "Epoch 138/150\n",
      "4594/4594 [==============================] - 1s 184us/step - loss: 0.2736 - accuracy: 0.86570s - los\n",
      "Epoch 139/150\n",
      "4594/4594 [==============================] - 1s 134us/step - loss: 0.2747 - accuracy: 0.8685\n",
      "Epoch 140/150\n",
      "4594/4594 [==============================] - 1s 145us/step - loss: 0.2748 - accuracy: 0.8624\n",
      "Epoch 141/150\n",
      "4594/4594 [==============================] - 1s 166us/step - loss: 0.2733 - accuracy: 0.8677\n",
      "Epoch 142/150\n",
      "4594/4594 [==============================] - 1s 170us/step - loss: 0.2738 - accuracy: 0.8671\n",
      "Epoch 143/150\n",
      "4594/4594 [==============================] - 1s 144us/step - loss: 0.2751 - accuracy: 0.8659\n",
      "Epoch 144/150\n",
      "4594/4594 [==============================] - 1s 124us/step - loss: 0.2727 - accuracy: 0.8653\n",
      "Epoch 145/150\n",
      "4594/4594 [==============================] - 1s 124us/step - loss: 0.2715 - accuracy: 0.8657\n",
      "Epoch 146/150\n",
      "4594/4594 [==============================] - 1s 125us/step - loss: 0.2730 - accuracy: 0.8667\n",
      "Epoch 147/150\n",
      "4594/4594 [==============================] - 1s 124us/step - loss: 0.2728 - accuracy: 0.8677\n",
      "Epoch 148/150\n",
      "4594/4594 [==============================] - 1s 122us/step - loss: 0.2723 - accuracy: 0.8656\n",
      "Epoch 149/150\n",
      "4594/4594 [==============================] - 1s 142us/step - loss: 0.2729 - accuracy: 0.8650\n",
      "Epoch 150/150\n",
      "4594/4594 [==============================] - 1s 125us/step - loss: 0.2724 - accuracy: 0.8662\n"
     ]
    },
    {
     "data": {
      "text/plain": [
       "<keras.callbacks.callbacks.History at 0x1a40a8ee90>"
      ]
     },
     "execution_count": 322,
     "metadata": {},
     "output_type": "execute_result"
    }
   ],
   "source": [
    "#Build model\n",
    "model = Sequential()\n",
    "model.add(Dense(12, input_dim=8, activation='relu'))\n",
    "model.add(Dense(8, activation='relu'))\n",
    "model.add(Dense(2, activation='sigmoid'))\n",
    "\n",
    "#Compile\n",
    "model.compile(loss='binary_crossentropy', optimizer='adam', metrics=['accuracy'])\n",
    "\n",
    "#Fit model\n",
    "model.fit(X_train, y_train, epochs=150, batch_size=10)"
   ]
  },
  {
   "cell_type": "code",
   "execution_count": 347,
   "metadata": {},
   "outputs": [
    {
     "name": "stdout",
     "output_type": "stream",
     "text": [
      "accuracy: 86.12%\n"
     ]
    }
   ],
   "source": [
    "#Generate predictions for spot tests\n",
    "preds = model.predict(X_train)\n",
    "\n",
    "#Evaluate model on unseen data\n",
    "scores = model.evaluate(X_test, y_test, verbose=0)\n",
    "print(\"%s: %.2f%%\" % (model.metrics_names[1], scores[1]*100))"
   ]
  },
  {
   "cell_type": "code",
   "execution_count": null,
   "metadata": {},
   "outputs": [],
   "source": []
  }
 ],
 "metadata": {
  "kernelspec": {
   "display_name": "Python 3",
   "language": "python",
   "name": "python3"
  },
  "language_info": {
   "codemirror_mode": {
    "name": "ipython",
    "version": 3
   },
   "file_extension": ".py",
   "mimetype": "text/x-python",
   "name": "python",
   "nbconvert_exporter": "python",
   "pygments_lexer": "ipython3",
   "version": "3.7.6"
  }
 },
 "nbformat": 4,
 "nbformat_minor": 4
}
