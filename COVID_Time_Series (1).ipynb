{
  "nbformat": 4,
  "nbformat_minor": 0,
  "metadata": {
    "colab": {
      "name": "COVID-Time-Series.ipynb",
      "provenance": [],
      "collapsed_sections": []
    },
    "kernelspec": {
      "name": "python3",
      "display_name": "Python 3"
    },
    "accelerator": "GPU"
  },
  "cells": [
    {
      "cell_type": "markdown",
      "metadata": {
        "id": "Tdt3HYR0lYIu",
        "colab_type": "text"
      },
      "source": [
        "# **Tensorflow Time Series of COVID-19 Confirmed U.S. Cases**\n",
        "\n",
        "---\n",
        "\n"
      ]
    },
    {
      "cell_type": "code",
      "metadata": {
        "id": "BjazWP8e3ZRa",
        "colab_type": "code",
        "outputId": "3a3ef710-3055-49a0-88aa-9f8b639963e1",
        "colab": {
          "base_uri": "https://localhost:8080/",
          "height": 35
        }
      },
      "source": [
        "%tensorflow_version 1.x"
      ],
      "execution_count": 1,
      "outputs": [
        {
          "output_type": "stream",
          "text": [
            "TensorFlow 1.x selected.\n"
          ],
          "name": "stdout"
        }
      ]
    },
    {
      "cell_type": "markdown",
      "metadata": {
        "id": "4GkonFwzlmJ8",
        "colab_type": "text"
      },
      "source": [
        "## **Reading COVID-19 Data from STATWORX COVID19 API** "
      ]
    },
    {
      "cell_type": "code",
      "metadata": {
        "id": "BJuNM12n3jM8",
        "colab_type": "code",
        "colab": {}
      },
      "source": [
        "import tensorflow as tf\n",
        "tf.enable_eager_execution()\n",
        "\n",
        "import matplotlib as mpl\n",
        "import matplotlib.pyplot as plt\n",
        "import numpy as np\n",
        "import os\n",
        "import pandas as pd\n",
        "import requests\n",
        "import json\n",
        "\n",
        "mpl.rcParams['figure.figsize'] = (8, 6)\n",
        "mpl.rcParams['axes.grid'] = False\n",
        "\n",
        "# POST to API\n",
        "payload = {'code': 'US'} # or {'code': 'DE'}\n",
        "URL = 'https://api.statworx.com/covid'\n",
        "response = requests.post(url=URL, data=json.dumps(payload))\n",
        "\n",
        "# Convert to data frame\n",
        "df = pd.DataFrame.from_dict(json.loads(response.text))"
      ],
      "execution_count": 0,
      "outputs": []
    },
    {
      "cell_type": "code",
      "metadata": {
        "id": "4EonSFD03sCQ",
        "colab_type": "code",
        "outputId": "d9d16362-34dd-4742-e3bb-cdbecc1760e8",
        "colab": {
          "base_uri": "https://localhost:8080/",
          "height": 202
        }
      },
      "source": [
        "df.head()"
      ],
      "execution_count": 3,
      "outputs": [
        {
          "output_type": "execute_result",
          "data": {
            "text/html": [
              "<div>\n",
              "<style scoped>\n",
              "    .dataframe tbody tr th:only-of-type {\n",
              "        vertical-align: middle;\n",
              "    }\n",
              "\n",
              "    .dataframe tbody tr th {\n",
              "        vertical-align: top;\n",
              "    }\n",
              "\n",
              "    .dataframe thead th {\n",
              "        text-align: right;\n",
              "    }\n",
              "</style>\n",
              "<table border=\"1\" class=\"dataframe\">\n",
              "  <thead>\n",
              "    <tr style=\"text-align: right;\">\n",
              "      <th></th>\n",
              "      <th>date</th>\n",
              "      <th>day</th>\n",
              "      <th>month</th>\n",
              "      <th>year</th>\n",
              "      <th>cases</th>\n",
              "      <th>deaths</th>\n",
              "      <th>country</th>\n",
              "      <th>code</th>\n",
              "      <th>population</th>\n",
              "      <th>continentExp</th>\n",
              "      <th>cases_cum</th>\n",
              "      <th>deaths_cum</th>\n",
              "    </tr>\n",
              "  </thead>\n",
              "  <tbody>\n",
              "    <tr>\n",
              "      <th>0</th>\n",
              "      <td>2019-12-31</td>\n",
              "      <td>31</td>\n",
              "      <td>12</td>\n",
              "      <td>2019</td>\n",
              "      <td>0</td>\n",
              "      <td>0</td>\n",
              "      <td>United_States_of_America</td>\n",
              "      <td>US</td>\n",
              "      <td>327167434</td>\n",
              "      <td>America</td>\n",
              "      <td>0</td>\n",
              "      <td>0</td>\n",
              "    </tr>\n",
              "    <tr>\n",
              "      <th>1</th>\n",
              "      <td>2020-01-01</td>\n",
              "      <td>1</td>\n",
              "      <td>1</td>\n",
              "      <td>2020</td>\n",
              "      <td>0</td>\n",
              "      <td>0</td>\n",
              "      <td>United_States_of_America</td>\n",
              "      <td>US</td>\n",
              "      <td>327167434</td>\n",
              "      <td>America</td>\n",
              "      <td>0</td>\n",
              "      <td>0</td>\n",
              "    </tr>\n",
              "    <tr>\n",
              "      <th>2</th>\n",
              "      <td>2020-01-02</td>\n",
              "      <td>2</td>\n",
              "      <td>1</td>\n",
              "      <td>2020</td>\n",
              "      <td>0</td>\n",
              "      <td>0</td>\n",
              "      <td>United_States_of_America</td>\n",
              "      <td>US</td>\n",
              "      <td>327167434</td>\n",
              "      <td>America</td>\n",
              "      <td>0</td>\n",
              "      <td>0</td>\n",
              "    </tr>\n",
              "    <tr>\n",
              "      <th>3</th>\n",
              "      <td>2020-01-03</td>\n",
              "      <td>3</td>\n",
              "      <td>1</td>\n",
              "      <td>2020</td>\n",
              "      <td>0</td>\n",
              "      <td>0</td>\n",
              "      <td>United_States_of_America</td>\n",
              "      <td>US</td>\n",
              "      <td>327167434</td>\n",
              "      <td>America</td>\n",
              "      <td>0</td>\n",
              "      <td>0</td>\n",
              "    </tr>\n",
              "    <tr>\n",
              "      <th>4</th>\n",
              "      <td>2020-01-04</td>\n",
              "      <td>4</td>\n",
              "      <td>1</td>\n",
              "      <td>2020</td>\n",
              "      <td>0</td>\n",
              "      <td>0</td>\n",
              "      <td>United_States_of_America</td>\n",
              "      <td>US</td>\n",
              "      <td>327167434</td>\n",
              "      <td>America</td>\n",
              "      <td>0</td>\n",
              "      <td>0</td>\n",
              "    </tr>\n",
              "  </tbody>\n",
              "</table>\n",
              "</div>"
            ],
            "text/plain": [
              "         date  day  month  year  ...  population  continentExp cases_cum deaths_cum\n",
              "0  2019-12-31   31     12  2019  ...   327167434       America         0          0\n",
              "1  2020-01-01    1      1  2020  ...   327167434       America         0          0\n",
              "2  2020-01-02    2      1  2020  ...   327167434       America         0          0\n",
              "3  2020-01-03    3      1  2020  ...   327167434       America         0          0\n",
              "4  2020-01-04    4      1  2020  ...   327167434       America         0          0\n",
              "\n",
              "[5 rows x 12 columns]"
            ]
          },
          "metadata": {
            "tags": []
          },
          "execution_count": 3
        }
      ]
    },
    {
      "cell_type": "code",
      "metadata": {
        "id": "72gCAVBTlwWO",
        "colab_type": "code",
        "colab": {
          "base_uri": "https://localhost:8080/",
          "height": 202
        },
        "outputId": "c8b622bd-3bab-49e1-988f-0be95af53404"
      },
      "source": [
        "df.tail()"
      ],
      "execution_count": 27,
      "outputs": [
        {
          "output_type": "execute_result",
          "data": {
            "text/html": [
              "<div>\n",
              "<style scoped>\n",
              "    .dataframe tbody tr th:only-of-type {\n",
              "        vertical-align: middle;\n",
              "    }\n",
              "\n",
              "    .dataframe tbody tr th {\n",
              "        vertical-align: top;\n",
              "    }\n",
              "\n",
              "    .dataframe thead th {\n",
              "        text-align: right;\n",
              "    }\n",
              "</style>\n",
              "<table border=\"1\" class=\"dataframe\">\n",
              "  <thead>\n",
              "    <tr style=\"text-align: right;\">\n",
              "      <th></th>\n",
              "      <th>date</th>\n",
              "      <th>day</th>\n",
              "      <th>month</th>\n",
              "      <th>year</th>\n",
              "      <th>cases</th>\n",
              "      <th>deaths</th>\n",
              "      <th>country</th>\n",
              "      <th>code</th>\n",
              "      <th>population</th>\n",
              "      <th>continentExp</th>\n",
              "      <th>cases_cum</th>\n",
              "      <th>deaths_cum</th>\n",
              "    </tr>\n",
              "  </thead>\n",
              "  <tbody>\n",
              "    <tr>\n",
              "      <th>119</th>\n",
              "      <td>2020-04-28</td>\n",
              "      <td>28</td>\n",
              "      <td>4</td>\n",
              "      <td>2020</td>\n",
              "      <td>22541</td>\n",
              "      <td>1369</td>\n",
              "      <td>United_States_of_America</td>\n",
              "      <td>US</td>\n",
              "      <td>327167434</td>\n",
              "      <td>America</td>\n",
              "      <td>988451</td>\n",
              "      <td>56245</td>\n",
              "    </tr>\n",
              "    <tr>\n",
              "      <th>120</th>\n",
              "      <td>2020-04-29</td>\n",
              "      <td>29</td>\n",
              "      <td>4</td>\n",
              "      <td>2020</td>\n",
              "      <td>24132</td>\n",
              "      <td>2110</td>\n",
              "      <td>United_States_of_America</td>\n",
              "      <td>US</td>\n",
              "      <td>327167434</td>\n",
              "      <td>America</td>\n",
              "      <td>1012583</td>\n",
              "      <td>58355</td>\n",
              "    </tr>\n",
              "    <tr>\n",
              "      <th>121</th>\n",
              "      <td>2020-04-30</td>\n",
              "      <td>30</td>\n",
              "      <td>4</td>\n",
              "      <td>2020</td>\n",
              "      <td>27326</td>\n",
              "      <td>2611</td>\n",
              "      <td>United_States_of_America</td>\n",
              "      <td>US</td>\n",
              "      <td>327167434</td>\n",
              "      <td>America</td>\n",
              "      <td>1039909</td>\n",
              "      <td>60966</td>\n",
              "    </tr>\n",
              "    <tr>\n",
              "      <th>122</th>\n",
              "      <td>2020-05-01</td>\n",
              "      <td>1</td>\n",
              "      <td>5</td>\n",
              "      <td>2020</td>\n",
              "      <td>29917</td>\n",
              "      <td>2040</td>\n",
              "      <td>United_States_of_America</td>\n",
              "      <td>US</td>\n",
              "      <td>327167434</td>\n",
              "      <td>America</td>\n",
              "      <td>1069826</td>\n",
              "      <td>63006</td>\n",
              "    </tr>\n",
              "    <tr>\n",
              "      <th>123</th>\n",
              "      <td>2020-05-02</td>\n",
              "      <td>2</td>\n",
              "      <td>5</td>\n",
              "      <td>2020</td>\n",
              "      <td>33955</td>\n",
              "      <td>2062</td>\n",
              "      <td>United_States_of_America</td>\n",
              "      <td>US</td>\n",
              "      <td>327167434</td>\n",
              "      <td>America</td>\n",
              "      <td>1103781</td>\n",
              "      <td>65068</td>\n",
              "    </tr>\n",
              "  </tbody>\n",
              "</table>\n",
              "</div>"
            ],
            "text/plain": [
              "           date  day  month  ...  continentExp  cases_cum  deaths_cum\n",
              "119  2020-04-28   28      4  ...       America     988451       56245\n",
              "120  2020-04-29   29      4  ...       America    1012583       58355\n",
              "121  2020-04-30   30      4  ...       America    1039909       60966\n",
              "122  2020-05-01    1      5  ...       America    1069826       63006\n",
              "123  2020-05-02    2      5  ...       America    1103781       65068\n",
              "\n",
              "[5 rows x 12 columns]"
            ]
          },
          "metadata": {
            "tags": []
          },
          "execution_count": 27
        }
      ]
    },
    {
      "cell_type": "markdown",
      "metadata": {
        "id": "uet6QJu-l1XZ",
        "colab_type": "text"
      },
      "source": [
        "### **Selecting the Date range to Index** \n",
        "\n",
        "---\n",
        "\n",
        "The parameter history_size is the size of the past window of information. The target_size is how far in the future does the model need to learn to predict. The target_size is the label that needs to be predicted."
      ]
    },
    {
      "cell_type": "code",
      "metadata": {
        "id": "sYX4u5FF3v5j",
        "colab_type": "code",
        "colab": {}
      },
      "source": [
        "def univariate_data(dataset, start_index, end_index, history_size, target_size):\n",
        "  data = []\n",
        "  labels = []\n",
        "\n",
        "  start_index = start_index + history_size\n",
        "  if end_index is None:\n",
        "    end_index = len(dataset) - target_size\n",
        "\n",
        "  for i in range(start_index, end_index):\n",
        "    indices = range(i-history_size, i)\n",
        "    #Reshape data from (history_size,) to (history_size, 1)\n",
        "    data.append(np.reshape(dataset[indices], (history_size, 1)))\n",
        "    labels.append(dataset[i+target_size])\n",
        "  return np.array(data), np.array(labels)"
      ],
      "execution_count": 0,
      "outputs": []
    },
    {
      "cell_type": "markdown",
      "metadata": {
        "id": "_8ySCAA0l_8M",
        "colab_type": "text"
      },
      "source": [
        "Splitting up training set"
      ]
    },
    {
      "cell_type": "code",
      "metadata": {
        "id": "fi46rvsX3z6J",
        "colab_type": "code",
        "colab": {}
      },
      "source": [
        "TRAIN_SPLIT = 74"
      ],
      "execution_count": 0,
      "outputs": []
    },
    {
      "cell_type": "markdown",
      "metadata": {
        "id": "2qBLrDcgmlwj",
        "colab_type": "text"
      },
      "source": [
        "Setting seed to ensure reproducibility."
      ]
    },
    {
      "cell_type": "code",
      "metadata": {
        "id": "A8Z0UtPQ346u",
        "colab_type": "code",
        "colab": {}
      },
      "source": [
        "tf.random.set_random_seed(13)"
      ],
      "execution_count": 0,
      "outputs": []
    },
    {
      "cell_type": "markdown",
      "metadata": {
        "id": "7fEsbkUwmGZr",
        "colab_type": "text"
      },
      "source": [
        "Extracting Cumulative Confirmed Cases"
      ]
    },
    {
      "cell_type": "code",
      "metadata": {
        "id": "yBSWj3CJ36zM",
        "colab_type": "code",
        "outputId": "26340430-d9a1-4844-ef1d-73d0def92417",
        "colab": {
          "base_uri": "https://localhost:8080/",
          "height": 139
        }
      },
      "source": [
        "uni_data = df['cases_cum']\n",
        "uni_data.index = df['date']\n",
        "uni_data.head()"
      ],
      "execution_count": 30,
      "outputs": [
        {
          "output_type": "execute_result",
          "data": {
            "text/plain": [
              "date\n",
              "2019-12-31    0\n",
              "2020-01-01    0\n",
              "2020-01-02    0\n",
              "2020-01-03    0\n",
              "2020-01-04    0\n",
              "Name: cases_cum, dtype: int64"
            ]
          },
          "metadata": {
            "tags": []
          },
          "execution_count": 30
        }
      ]
    },
    {
      "cell_type": "code",
      "metadata": {
        "id": "z3VPN6G0oOY2",
        "colab_type": "code",
        "colab": {
          "base_uri": "https://localhost:8080/",
          "height": 139
        },
        "outputId": "26d99871-70d8-4977-a1a4-82990a703e5b"
      },
      "source": [
        "uni_data.tail()"
      ],
      "execution_count": 29,
      "outputs": [
        {
          "output_type": "execute_result",
          "data": {
            "text/plain": [
              "date\n",
              "2020-04-28     988451\n",
              "2020-04-29    1012583\n",
              "2020-04-30    1039909\n",
              "2020-05-01    1069826\n",
              "2020-05-02    1103781\n",
              "Name: cases_cum, dtype: int64"
            ]
          },
          "metadata": {
            "tags": []
          },
          "execution_count": 29
        }
      ]
    },
    {
      "cell_type": "markdown",
      "metadata": {
        "id": "Odt52mDRnBPC",
        "colab_type": "text"
      },
      "source": [
        "Plot of COVID-19 across time."
      ]
    },
    {
      "cell_type": "code",
      "metadata": {
        "id": "GXrOsux74A-P",
        "colab_type": "code",
        "outputId": "ce4928dc-600c-4c93-f897-6f1c5e63d10c",
        "colab": {
          "base_uri": "https://localhost:8080/",
          "height": 429
        }
      },
      "source": [
        "uni_data.plot(subplots=True)"
      ],
      "execution_count": 8,
      "outputs": [
        {
          "output_type": "execute_result",
          "data": {
            "text/plain": [
              "array([<matplotlib.axes._subplots.AxesSubplot object at 0x7fda4b63abe0>],\n",
              "      dtype=object)"
            ]
          },
          "metadata": {
            "tags": []
          },
          "execution_count": 8
        },
        {
          "output_type": "display_data",
          "data": {
            "image/png": "[encoded data removed]",
            "text/plain": [
              "<Figure size 576x432 with 1 Axes>"
            ]
          },
          "metadata": {
            "tags": [],
            "needs_background": "light"
          }
        }
      ]
    },
    {
      "cell_type": "code",
      "metadata": {
        "id": "pwCx6JPi4BmF",
        "colab_type": "code",
        "colab": {}
      },
      "source": [
        "uni_data = uni_data.values"
      ],
      "execution_count": 0,
      "outputs": []
    },
    {
      "cell_type": "code",
      "metadata": {
        "id": "tsJ7fORJ4Efo",
        "colab_type": "code",
        "colab": {}
      },
      "source": [
        "uni_train_mean = uni_data[:TRAIN_SPLIT].mean()\n",
        "uni_train_std = uni_data[:TRAIN_SPLIT].std()"
      ],
      "execution_count": 0,
      "outputs": []
    },
    {
      "cell_type": "markdown",
      "metadata": {
        "id": "acUsRRe4nJix",
        "colab_type": "text"
      },
      "source": [
        "Standardizing the data."
      ]
    },
    {
      "cell_type": "code",
      "metadata": {
        "id": "f2zWGRk_4GMj",
        "colab_type": "code",
        "colab": {}
      },
      "source": [
        "uni_data = (uni_data-uni_train_mean)/uni_train_std"
      ],
      "execution_count": 0,
      "outputs": []
    },
    {
      "cell_type": "markdown",
      "metadata": {
        "id": "L675QgTrnQp0",
        "colab_type": "text"
      },
      "source": [
        "## **Univariate model**\n",
        "\n",
        "---\n",
        "\n",
        "\n",
        "\n",
        "The model will be given the last 20 recorded day observations, for learning to predict the Confirmed Cases at the next time step."
      ]
    },
    {
      "cell_type": "code",
      "metadata": {
        "id": "ysqEOpl54H9a",
        "colab_type": "code",
        "colab": {}
      },
      "source": [
        "univariate_past_history = 20\n",
        "univariate_future_target = 0\n",
        "\n",
        "x_train_uni, y_train_uni = univariate_data(uni_data, 0, TRAIN_SPLIT,\n",
        "                                           univariate_past_history,\n",
        "                                           univariate_future_target)\n",
        "x_val_uni, y_val_uni = univariate_data(uni_data, TRAIN_SPLIT, None,\n",
        "                                       univariate_past_history,\n",
        "                                       univariate_future_target)"
      ],
      "execution_count": 0,
      "outputs": []
    },
    {
      "cell_type": "code",
      "metadata": {
        "id": "dhhUrPkO4J_Z",
        "colab_type": "code",
        "outputId": "816963de-c678-4a9e-ec65-8c4264326e6e",
        "colab": {
          "base_uri": "https://localhost:8080/",
          "height": 433
        }
      },
      "source": [
        "print ('Single window of past history')\n",
        "print (x_train_uni[0])\n",
        "print ('\\n Target Cumulative Confirmed Cases to predict')\n",
        "print (y_train_uni[0])"
      ],
      "execution_count": 13,
      "outputs": [
        {
          "output_type": "stream",
          "text": [
            "Single window of past history\n",
            "[[-0.35604638]\n",
            " [-0.35604638]\n",
            " [-0.35604638]\n",
            " [-0.35604638]\n",
            " [-0.35604638]\n",
            " [-0.35604638]\n",
            " [-0.35604638]\n",
            " [-0.35604638]\n",
            " [-0.35604638]\n",
            " [-0.35604638]\n",
            " [-0.35604638]\n",
            " [-0.35604638]\n",
            " [-0.35604638]\n",
            " [-0.35604638]\n",
            " [-0.35604638]\n",
            " [-0.35604638]\n",
            " [-0.35604638]\n",
            " [-0.35604638]\n",
            " [-0.35604638]\n",
            " [-0.35604638]]\n",
            "\n",
            " Target cumulative confirmed to predict\n",
            "-0.3560463830477833\n"
          ],
          "name": "stdout"
        }
      ]
    },
    {
      "cell_type": "markdown",
      "metadata": {
        "id": "rZEm6H04nuVG",
        "colab_type": "text"
      },
      "source": [
        "The information given to the network is given in blue, and it must predict the value at the red cross."
      ]
    },
    {
      "cell_type": "code",
      "metadata": {
        "id": "iMyf-cIL4MFu",
        "colab_type": "code",
        "colab": {}
      },
      "source": [
        "def create_time_steps(length):\n",
        "  return list(range(-length, 0))"
      ],
      "execution_count": 0,
      "outputs": []
    },
    {
      "cell_type": "code",
      "metadata": {
        "id": "o5hl4_qx4OvT",
        "colab_type": "code",
        "colab": {}
      },
      "source": [
        "def show_plot(plot_data, delta, title):\n",
        "  labels = ['History', 'True Future', 'Model Prediction']\n",
        "  marker = ['.-', 'rx', 'go']\n",
        "  time_steps = create_time_steps(plot_data[0].shape[0])\n",
        "  if delta:\n",
        "    future = delta\n",
        "  else:\n",
        "    future = 0\n",
        "\n",
        "  plt.title(title)\n",
        "  for i, x in enumerate(plot_data):\n",
        "    if i:\n",
        "      plt.plot(future, plot_data[i], marker[i], markersize=10,\n",
        "               label=labels[i])\n",
        "    else:\n",
        "      plt.plot(time_steps, plot_data[i].flatten(), marker[i], label=labels[i])\n",
        "  plt.legend()\n",
        "  plt.xlim([time_steps[0], (future+5)*2])\n",
        "  plt.xlabel('Time-Step')\n",
        "  return plt"
      ],
      "execution_count": 0,
      "outputs": []
    },
    {
      "cell_type": "code",
      "metadata": {
        "id": "a6gi_Omg4QzB",
        "colab_type": "code",
        "outputId": "8ca76fa1-1c31-474d-e235-c3eb7a6aadfd",
        "colab": {
          "base_uri": "https://localhost:8080/",
          "height": 421
        }
      },
      "source": [
        "show_plot([x_train_uni[0], y_train_uni[0]], 0, 'Sample Example')"
      ],
      "execution_count": 16,
      "outputs": [
        {
          "output_type": "execute_result",
          "data": {
            "text/plain": [
              "<module 'matplotlib.pyplot' from '/usr/local/lib/python3.6/dist-packages/matplotlib/pyplot.py'>"
            ]
          },
          "metadata": {
            "tags": []
          },
          "execution_count": 16
        },
        {
          "output_type": "display_data",
          "data": {
            "image/png": "[encoded data removed]",
            "text/plain": [
              "<Figure size 576x432 with 1 Axes>"
            ]
          },
          "metadata": {
            "tags": [],
            "needs_background": "light"
          }
        }
      ]
    },
    {
      "cell_type": "markdown",
      "metadata": {
        "id": "IV8cJ7Son16K",
        "colab_type": "text"
      },
      "source": [
        "### **Baseline**\n",
        "\n",
        "---\n",
        "\n",
        "\n",
        "The sample baseline. Given an input point, the baseline method looks at all the history and predicts the next point to be the average of the last 20 observations."
      ]
    },
    {
      "cell_type": "code",
      "metadata": {
        "id": "jHT6hPX54S3r",
        "colab_type": "code",
        "colab": {}
      },
      "source": [
        "def baseline(history):\n",
        "  return np.mean(history)"
      ],
      "execution_count": 0,
      "outputs": []
    },
    {
      "cell_type": "code",
      "metadata": {
        "id": "5A8X7wXk4Uzl",
        "colab_type": "code",
        "outputId": "c83f1786-437d-4619-e590-b59733ea7b5e",
        "colab": {
          "base_uri": "https://localhost:8080/",
          "height": 421
        }
      },
      "source": [
        "show_plot([x_train_uni[0], y_train_uni[0], baseline(x_train_uni[0])], 0,\n",
        "           'Baseline Prediction Example')"
      ],
      "execution_count": 18,
      "outputs": [
        {
          "output_type": "execute_result",
          "data": {
            "text/plain": [
              "<module 'matplotlib.pyplot' from '/usr/local/lib/python3.6/dist-packages/matplotlib/pyplot.py'>"
            ]
          },
          "metadata": {
            "tags": []
          },
          "execution_count": 18
        },
        {
          "output_type": "display_data",
          "data": {
            "image/png": "[encoded data removed]",
            "text/plain": [
              "<Figure size 576x432 with 1 Axes>"
            ]
          },
          "metadata": {
            "tags": [],
            "needs_background": "light"
          }
        }
      ]
    },
    {
      "cell_type": "code",
      "metadata": {
        "id": "SvQ74da34X3h",
        "colab_type": "code",
        "outputId": "dee3ae1d-4f2f-45fe-99cd-f4db9e5b908b",
        "colab": {
          "base_uri": "https://localhost:8080/",
          "height": 89
        }
      },
      "source": [
        "BATCH_SIZE = 256\n",
        "BUFFER_SIZE = 10000\n",
        "\n",
        "train_univariate = tf.data.Dataset.from_tensor_slices((x_train_uni, y_train_uni))\n",
        "train_univariate = train_univariate.cache().shuffle(BUFFER_SIZE).batch(BATCH_SIZE).repeat()\n",
        "\n",
        "val_univariate = tf.data.Dataset.from_tensor_slices((x_val_uni, y_val_uni))\n",
        "val_univariate = val_univariate.batch(BATCH_SIZE).repeat()"
      ],
      "execution_count": 19,
      "outputs": [
        {
          "output_type": "stream",
          "text": [
            "WARNING:tensorflow:From /tensorflow-1.15.2/python3.6/tensorflow_core/python/data/util/random_seed.py:58: where (from tensorflow.python.ops.array_ops) is deprecated and will be removed in a future version.\n",
            "Instructions for updating:\n",
            "Use tf.where in 2.0, which has the same broadcast rule as np.where\n"
          ],
          "name": "stdout"
        }
      ]
    },
    {
      "cell_type": "code",
      "metadata": {
        "id": "-0dViNTq4Z7s",
        "colab_type": "code",
        "colab": {}
      },
      "source": [
        "simple_lstm_model = tf.keras.models.Sequential([\n",
        "    tf.keras.layers.LSTM(8, input_shape=x_train_uni.shape[-2:]),\n",
        "    tf.keras.layers.Dense(1)\n",
        "])\n",
        "\n",
        "simple_lstm_model.compile(optimizer='adam', loss='mae')"
      ],
      "execution_count": 0,
      "outputs": []
    },
    {
      "cell_type": "code",
      "metadata": {
        "id": "E0hBEvv-4bwK",
        "colab_type": "code",
        "outputId": "4ff2e26d-58ea-4475-e8cf-7271989e8c76",
        "colab": {
          "base_uri": "https://localhost:8080/",
          "height": 35
        }
      },
      "source": [
        "for x, y in val_univariate.take(1):\n",
        "    print(simple_lstm_model.predict(x).shape)"
      ],
      "execution_count": 21,
      "outputs": [
        {
          "output_type": "stream",
          "text": [
            "(30, 1)\n"
          ],
          "name": "stdout"
        }
      ]
    },
    {
      "cell_type": "code",
      "metadata": {
        "id": "eKpU0X5R4d7Z",
        "colab_type": "code",
        "outputId": "c6c10cac-9e03-49f6-8693-a1e8b967e731",
        "colab": {
          "base_uri": "https://localhost:8080/",
          "height": 1000
        }
      },
      "source": [
        "EVALUATION_INTERVAL = 200\n",
        "EPOCHS = 100\n",
        "\n",
        "simple_lstm_model.fit(train_univariate, epochs=EPOCHS,\n",
        "                      steps_per_epoch=EVALUATION_INTERVAL,\n",
        "                      validation_data=val_univariate, validation_steps=50)"
      ],
      "execution_count": 25,
      "outputs": [
        {
          "output_type": "stream",
          "text": [
            "Train for 200 steps, validate for 50 steps\n",
            "Epoch 1/100\n",
            "200/200 [==============================] - 7s 36ms/step - loss: 0.0278 - val_loss: 2374.7280\n",
            "Epoch 2/100\n",
            "200/200 [==============================] - 7s 37ms/step - loss: 0.0226 - val_loss: 2374.8398\n",
            "Epoch 3/100\n",
            "200/200 [==============================] - 7s 37ms/step - loss: 0.0196 - val_loss: 2374.7617\n",
            "Epoch 4/100\n",
            "200/200 [==============================] - 7s 37ms/step - loss: 0.0179 - val_loss: 2374.7500\n",
            "Epoch 5/100\n",
            "200/200 [==============================] - 7s 36ms/step - loss: 0.0171 - val_loss: 2374.7615\n",
            "Epoch 6/100\n",
            "200/200 [==============================] - 7s 36ms/step - loss: 0.0167 - val_loss: 2374.7563\n",
            "Epoch 7/100\n",
            "200/200 [==============================] - 7s 36ms/step - loss: 0.0163 - val_loss: 2374.7515\n",
            "Epoch 8/100\n",
            "200/200 [==============================] - 7s 36ms/step - loss: 0.0161 - val_loss: 2374.7471\n",
            "Epoch 9/100\n",
            "200/200 [==============================] - 7s 37ms/step - loss: 0.0157 - val_loss: 2374.7449\n",
            "Epoch 10/100\n",
            "200/200 [==============================] - 7s 37ms/step - loss: 0.0154 - val_loss: 2374.7336\n",
            "Epoch 11/100\n",
            "200/200 [==============================] - 7s 36ms/step - loss: 0.0150 - val_loss: 2374.7261\n",
            "Epoch 12/100\n",
            "200/200 [==============================] - 7s 37ms/step - loss: 0.0146 - val_loss: 2374.7180\n",
            "Epoch 13/100\n",
            "200/200 [==============================] - 7s 36ms/step - loss: 0.0145 - val_loss: 2374.7156\n",
            "Epoch 14/100\n",
            "200/200 [==============================] - 7s 37ms/step - loss: 0.0141 - val_loss: 2374.7065\n",
            "Epoch 15/100\n",
            "200/200 [==============================] - 7s 36ms/step - loss: 0.0138 - val_loss: 2374.7021\n",
            "Epoch 16/100\n",
            "200/200 [==============================] - 7s 36ms/step - loss: 0.0136 - val_loss: 2374.6975\n",
            "Epoch 17/100\n",
            "200/200 [==============================] - 7s 36ms/step - loss: 0.0132 - val_loss: 2374.6909\n",
            "Epoch 18/100\n",
            "200/200 [==============================] - 8s 39ms/step - loss: 0.0129 - val_loss: 2374.6802\n",
            "Epoch 19/100\n",
            "200/200 [==============================] - 7s 37ms/step - loss: 0.0127 - val_loss: 2374.6719\n",
            "Epoch 20/100\n",
            "200/200 [==============================] - 7s 37ms/step - loss: 0.0124 - val_loss: 2374.6614\n",
            "Epoch 21/100\n",
            "200/200 [==============================] - 7s 37ms/step - loss: 0.0119 - val_loss: 2374.6538\n",
            "Epoch 22/100\n",
            "200/200 [==============================] - 7s 36ms/step - loss: 0.0112 - val_loss: 2374.7610\n",
            "Epoch 23/100\n",
            "200/200 [==============================] - 7s 36ms/step - loss: 0.0105 - val_loss: 2374.7908\n",
            "Epoch 24/100\n",
            "200/200 [==============================] - 7s 36ms/step - loss: 0.0101 - val_loss: 2374.7861\n",
            "Epoch 25/100\n",
            "200/200 [==============================] - 7s 36ms/step - loss: 0.0097 - val_loss: 2374.7834\n",
            "Epoch 26/100\n",
            "200/200 [==============================] - 7s 37ms/step - loss: 0.0092 - val_loss: 2374.7822\n",
            "Epoch 27/100\n",
            "200/200 [==============================] - 7s 37ms/step - loss: 0.0089 - val_loss: 2374.7800\n",
            "Epoch 28/100\n",
            "200/200 [==============================] - 7s 36ms/step - loss: 0.0085 - val_loss: 2374.7847\n",
            "Epoch 29/100\n",
            "200/200 [==============================] - 7s 36ms/step - loss: 0.0084 - val_loss: 2374.7822\n",
            "Epoch 30/100\n",
            "200/200 [==============================] - 7s 36ms/step - loss: 0.0081 - val_loss: 2374.7842\n",
            "Epoch 31/100\n",
            "200/200 [==============================] - 7s 37ms/step - loss: 0.0082 - val_loss: 2374.4255\n",
            "Epoch 32/100\n",
            "200/200 [==============================] - 7s 36ms/step - loss: 0.0080 - val_loss: 2373.8792\n",
            "Epoch 33/100\n",
            "200/200 [==============================] - 7s 36ms/step - loss: 0.0076 - val_loss: 2373.4309\n",
            "Epoch 34/100\n",
            "200/200 [==============================] - 7s 36ms/step - loss: 0.0076 - val_loss: 2373.3547\n",
            "Epoch 35/100\n",
            "200/200 [==============================] - 7s 36ms/step - loss: 0.0075 - val_loss: 2373.3477\n",
            "Epoch 36/100\n",
            "200/200 [==============================] - 7s 37ms/step - loss: 0.0072 - val_loss: 2373.3328\n",
            "Epoch 37/100\n",
            "200/200 [==============================] - 7s 37ms/step - loss: 0.0073 - val_loss: 2373.3342\n",
            "Epoch 38/100\n",
            "200/200 [==============================] - 7s 36ms/step - loss: 0.0070 - val_loss: 2373.3308\n",
            "Epoch 39/100\n",
            "200/200 [==============================] - 7s 36ms/step - loss: 0.0070 - val_loss: 2373.3313\n",
            "Epoch 40/100\n",
            "200/200 [==============================] - 7s 37ms/step - loss: 0.0070 - val_loss: 2373.3323\n",
            "Epoch 41/100\n",
            "200/200 [==============================] - 8s 38ms/step - loss: 0.0068 - val_loss: 2373.3337\n",
            "Epoch 42/100\n",
            "200/200 [==============================] - 7s 37ms/step - loss: 0.0069 - val_loss: 2373.3369\n",
            "Epoch 43/100\n",
            "200/200 [==============================] - 7s 37ms/step - loss: 0.0067 - val_loss: 2373.3389\n",
            "Epoch 44/100\n",
            "200/200 [==============================] - 7s 36ms/step - loss: 0.0066 - val_loss: 2373.3364\n",
            "Epoch 45/100\n",
            "200/200 [==============================] - 7s 36ms/step - loss: 0.0068 - val_loss: 2373.3411\n",
            "Epoch 46/100\n",
            "200/200 [==============================] - 7s 36ms/step - loss: 0.0065 - val_loss: 2373.3386\n",
            "Epoch 47/100\n",
            "200/200 [==============================] - 7s 36ms/step - loss: 0.0066 - val_loss: 2373.3411\n",
            "Epoch 48/100\n",
            "200/200 [==============================] - 7s 36ms/step - loss: 0.0065 - val_loss: 2373.3401\n",
            "Epoch 49/100\n",
            "200/200 [==============================] - 7s 37ms/step - loss: 0.0064 - val_loss: 2373.3386\n",
            "Epoch 50/100\n",
            "200/200 [==============================] - 7s 36ms/step - loss: 0.0065 - val_loss: 2373.3398\n",
            "Epoch 51/100\n",
            "200/200 [==============================] - 7s 36ms/step - loss: 0.0063 - val_loss: 2373.3364\n",
            "Epoch 52/100\n",
            "200/200 [==============================] - 7s 36ms/step - loss: 0.0064 - val_loss: 2373.3381\n",
            "Epoch 53/100\n",
            "200/200 [==============================] - 7s 37ms/step - loss: 0.0065 - val_loss: 2373.3438\n",
            "Epoch 54/100\n",
            "200/200 [==============================] - 7s 36ms/step - loss: 0.0064 - val_loss: 2373.3840\n",
            "Epoch 55/100\n",
            "200/200 [==============================] - 7s 36ms/step - loss: 0.0063 - val_loss: 2373.8650\n",
            "Epoch 56/100\n",
            "200/200 [==============================] - 7s 36ms/step - loss: 0.0063 - val_loss: 2373.8870\n",
            "Epoch 57/100\n",
            "200/200 [==============================] - 7s 36ms/step - loss: 0.0062 - val_loss: 2373.8857\n",
            "Epoch 58/100\n",
            "200/200 [==============================] - 7s 36ms/step - loss: 0.0062 - val_loss: 2373.8855\n",
            "Epoch 59/100\n",
            "200/200 [==============================] - 7s 37ms/step - loss: 0.0063 - val_loss: 2373.8870\n",
            "Epoch 60/100\n",
            "200/200 [==============================] - 7s 36ms/step - loss: 0.0062 - val_loss: 2373.8855\n",
            "Epoch 61/100\n",
            "200/200 [==============================] - 7s 37ms/step - loss: 0.0061 - val_loss: 2373.8850\n",
            "Epoch 62/100\n",
            "200/200 [==============================] - 7s 36ms/step - loss: 0.0062 - val_loss: 2373.8850\n",
            "Epoch 63/100\n",
            "200/200 [==============================] - 7s 36ms/step - loss: 0.0061 - val_loss: 2373.8838\n",
            "Epoch 64/100\n",
            "200/200 [==============================] - 7s 37ms/step - loss: 0.0061 - val_loss: 2373.8823\n",
            "Epoch 65/100\n",
            "200/200 [==============================] - 7s 36ms/step - loss: 0.0061 - val_loss: 2373.8823\n",
            "Epoch 66/100\n",
            "200/200 [==============================] - 7s 36ms/step - loss: 0.0062 - val_loss: 2373.8828\n",
            "Epoch 67/100\n",
            "200/200 [==============================] - 7s 36ms/step - loss: 0.0062 - val_loss: 2373.8850\n",
            "Epoch 68/100\n",
            "200/200 [==============================] - 7s 36ms/step - loss: 0.0060 - val_loss: 2373.8823\n",
            "Epoch 69/100\n",
            "200/200 [==============================] - 7s 36ms/step - loss: 0.0060 - val_loss: 2373.8823\n",
            "Epoch 70/100\n",
            "200/200 [==============================] - 7s 36ms/step - loss: 0.0060 - val_loss: 2373.9219\n",
            "Epoch 71/100\n",
            "200/200 [==============================] - 7s 36ms/step - loss: 0.0062 - val_loss: 2374.0217\n",
            "Epoch 72/100\n",
            "200/200 [==============================] - 7s 36ms/step - loss: 0.0060 - val_loss: 2374.0833\n",
            "Epoch 73/100\n",
            "200/200 [==============================] - 7s 37ms/step - loss: 0.0060 - val_loss: 2374.1333\n",
            "Epoch 74/100\n",
            "200/200 [==============================] - 7s 36ms/step - loss: 0.0060 - val_loss: 2374.1548\n",
            "Epoch 75/100\n",
            "200/200 [==============================] - 7s 37ms/step - loss: 0.0060 - val_loss: 2374.1880\n",
            "Epoch 76/100\n",
            "200/200 [==============================] - 7s 37ms/step - loss: 0.0061 - val_loss: 2374.1987\n",
            "Epoch 77/100\n",
            "200/200 [==============================] - 7s 36ms/step - loss: 0.0059 - val_loss: 2374.2068\n",
            "Epoch 78/100\n",
            "200/200 [==============================] - 7s 36ms/step - loss: 0.0061 - val_loss: 2374.2131\n",
            "Epoch 79/100\n",
            "200/200 [==============================] - 7s 36ms/step - loss: 0.0061 - val_loss: 2374.2239\n",
            "Epoch 80/100\n",
            "200/200 [==============================] - 7s 36ms/step - loss: 0.0060 - val_loss: 2374.2317\n",
            "Epoch 81/100\n",
            "200/200 [==============================] - 7s 36ms/step - loss: 0.0060 - val_loss: 2374.2375\n",
            "Epoch 82/100\n",
            "200/200 [==============================] - 7s 37ms/step - loss: 0.0060 - val_loss: 2374.2412\n",
            "Epoch 83/100\n",
            "200/200 [==============================] - 8s 39ms/step - loss: 0.0060 - val_loss: 2374.2478\n",
            "Epoch 84/100\n",
            "200/200 [==============================] - 8s 38ms/step - loss: 0.0059 - val_loss: 2374.2505\n",
            "Epoch 85/100\n",
            "200/200 [==============================] - 7s 36ms/step - loss: 0.0060 - val_loss: 2374.2556\n",
            "Epoch 86/100\n",
            "200/200 [==============================] - 7s 37ms/step - loss: 0.0059 - val_loss: 2374.2588\n",
            "Epoch 87/100\n",
            "200/200 [==============================] - 7s 36ms/step - loss: 0.0061 - val_loss: 2374.2625\n",
            "Epoch 88/100\n",
            "200/200 [==============================] - 7s 36ms/step - loss: 0.0059 - val_loss: 2374.2656\n",
            "Epoch 89/100\n",
            "200/200 [==============================] - 7s 36ms/step - loss: 0.0059 - val_loss: 2374.2664\n",
            "Epoch 90/100\n",
            "200/200 [==============================] - 7s 36ms/step - loss: 0.0059 - val_loss: 2374.2703\n",
            "Epoch 91/100\n",
            "200/200 [==============================] - 7s 36ms/step - loss: 0.0061 - val_loss: 2374.2729\n",
            "Epoch 92/100\n",
            "200/200 [==============================] - 7s 36ms/step - loss: 0.0061 - val_loss: 2374.2781\n",
            "Epoch 93/100\n",
            "200/200 [==============================] - 7s 36ms/step - loss: 0.0059 - val_loss: 2374.2766\n",
            "Epoch 94/100\n",
            "200/200 [==============================] - 7s 36ms/step - loss: 0.0059 - val_loss: 2374.2795\n",
            "Epoch 95/100\n",
            "200/200 [==============================] - 7s 36ms/step - loss: 0.0059 - val_loss: 2374.2839\n",
            "Epoch 96/100\n",
            "200/200 [==============================] - 7s 37ms/step - loss: 0.0058 - val_loss: 2374.2856\n",
            "Epoch 97/100\n",
            "200/200 [==============================] - 7s 36ms/step - loss: 0.0059 - val_loss: 2374.2864\n",
            "Epoch 98/100\n",
            "200/200 [==============================] - 7s 36ms/step - loss: 0.0059 - val_loss: 2374.2878\n",
            "Epoch 99/100\n",
            "200/200 [==============================] - 7s 36ms/step - loss: 0.0059 - val_loss: 2374.2903\n",
            "Epoch 100/100\n",
            "200/200 [==============================] - 7s 37ms/step - loss: 0.0060 - val_loss: 2374.2905\n"
          ],
          "name": "stdout"
        },
        {
          "output_type": "execute_result",
          "data": {
            "text/plain": [
              "<tensorflow.python.keras.callbacks.History at 0x7fd9cefcf978>"
            ]
          },
          "metadata": {
            "tags": []
          },
          "execution_count": 25
        }
      ]
    },
    {
      "cell_type": "code",
      "metadata": {
        "id": "MR-ZYf6N4gTU",
        "colab_type": "code",
        "outputId": "3dee588d-fa58-4ac6-aa18-67a90d722c86",
        "colab": {
          "base_uri": "https://localhost:8080/",
          "height": 1000
        }
      },
      "source": [
        "for x, y in val_univariate.take(3):\n",
        "  plot = show_plot([x[0].numpy(), y[0].numpy(),\n",
        "                    simple_lstm_model.predict(x)[0]], 0, 'Simple LSTM model')\n",
        "  plot.show()"
      ],
      "execution_count": 26,
      "outputs": [
        {
          "output_type": "display_data",
          "data": {
            "image/png": "[encoded data removed]",
            "text/plain": [
              "<Figure size 576x432 with 1 Axes>"
            ]
          },
          "metadata": {
            "tags": [],
            "needs_background": "light"
          }
        },
        {
          "output_type": "display_data",
          "data": {
            "image/png": "[encoded data removed]",
            "text/plain": [
              "<Figure size 576x432 with 1 Axes>"
            ]
          },
          "metadata": {
            "tags": [],
            "needs_background": "light"
          }
        },
        {
          "output_type": "display_data",
          "data": {
            "image/png": "[encoded data removed]",
            "text/plain": [
              "<Figure size 576x432 with 1 Axes>"
            ]
          },
          "metadata": {
            "tags": [],
            "needs_background": "light"
          }
        }
      ]
    }
  ]
}